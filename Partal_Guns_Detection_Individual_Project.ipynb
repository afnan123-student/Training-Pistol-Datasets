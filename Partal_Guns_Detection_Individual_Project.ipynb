Train a custom object detection model with TensorFlow Lite Model Maker
In this colab notebook, you'll learn how to use the TensorFlow Lite Model Maker to train a custom object detection model to detect Android figurines and how to put the model on a Raspberry Pi.

The Model Maker library uses transfer learning to simplify the process of training a TensorFlow Lite model using a custom dataset. Retraining a TensorFlow Lite model with your own custom dataset reduces the amount of training data required and will shorten the training time.

Preparation
Install the required packages
Start by installing the required packages, including the Model Maker package from the GitHub repo and the pycocotools library you'll use for evaluation.

!pip install -q tflite-model-maker
!pip install -q tflite-support
     ━━━━━━━━━━━━━━━━━━━━━━━━━━━━━━━━━━━━━━ 577.3/577.3 kB 15.3 MB/s eta 0:00:00
     ━━━━━━━━━━━━━━━━━━━━━━━━━━━━━━━━━━━━━━ 108.8/108.8 kB 13.7 MB/s eta 0:00:00
     ━━━━━━━━━━━━━━━━━━━━━━━━━━━━━━━━━━━━━━━━ 10.9/10.9 MB 97.7 MB/s eta 0:00:00
     ━━━━━━━━━━━━━━━━━━━━━━━━━━━━━━━━━━━━━━━━ 1.3/1.3 MB 72.7 MB/s eta 0:00:00
     ━━━━━━━━━━━━━━━━━━━━━━━━━━━━━━━━━━━━━━ 128.0/128.0 kB 15.3 MB/s eta 0:00:00
     ━━━━━━━━━━━━━━━━━━━━━━━━━━━━━━━━━━━━━━ 840.9/840.9 kB 42.8 MB/s eta 0:00:00
     ━━━━━━━━━━━━━━━━━━━━━━━━━━━━━━━━━━━━━━━━ 77.5/77.5 kB 9.9 MB/s eta 0:00:00
     ━━━━━━━━━━━━━━━━━━━━━━━━━━━━━━━━━━━━━━ 591.0/591.0 kB 50.3 MB/s eta 0:00:00
     ━━━━━━━━━━━━━━━━━━━━━━━━━━━━━━━━━━━━━━━ 10.3/10.3 MB 106.1 MB/s eta 0:00:00
     ━━━━━━━━━━━━━━━━━━━━━━━━━━━━━━━━━━━━━━ 240.6/240.6 kB 25.6 MB/s eta 0:00:00
     ━━━━━━━━━━━━━━━━━━━━━━━━━━━━━━━━━━━━━━ 128.6/128.6 kB 15.2 MB/s eta 0:00:00
     ━━━━━━━━━━━━━━━━━━━━━━━━━━━━━━━━━━━━━━ 203.8/203.8 kB 18.2 MB/s eta 0:00:00
     ━━━━━━━━━━━━━━━━━━━━━━━━━━━━━━━━━━━━━━━━ 60.9/60.9 MB 13.0 MB/s eta 0:00:00
     ━━━━━━━━━━━━━━━━━━━━━━━━━━━━━━━━━━━━━━━━ 88.3/88.3 kB 9.8 MB/s eta 0:00:00
  Preparing metadata (setup.py) ... done
     ━━━━━━━━━━━━━━━━━━━━━━━━━━━━━━━━━━━━━━━━ 3.4/3.4 MB 87.1 MB/s eta 0:00:00
     ━━━━━━━━━━━━━━━━━━━━━━━━━━━━━━━━━━━━━━━━ 3.1/3.1 MB 101.8 MB/s eta 0:00:00
     ━━━━━━━━━━━━━━━━━━━━━━━━━━━━━━━━━━━━━━━━ 25.3/25.3 MB 55.7 MB/s eta 0:00:00
     ━━━━━━━━━━━━━━━━━━━━━━━━━━━━━━━━━━━━━━━ 498.1/498.1 MB 3.3 MB/s eta 0:00:00
     ━━━━━━━━━━━━━━━━━━━━━━━━━━━━━━━━━━━━━━━━ 42.6/42.6 kB 4.8 MB/s eta 0:00:00
     ━━━━━━━━━━━━━━━━━━━━━━━━━━━━━━━━━━━━━━ 462.3/462.3 kB 44.2 MB/s eta 0:00:00
     ━━━━━━━━━━━━━━━━━━━━━━━━━━━━━━━━━━━━━━━━ 1.1/1.1 MB 44.9 MB/s eta 0:00:00
     ━━━━━━━━━━━━━━━━━━━━━━━━━━━━━━━━━━━━━━━━ 5.8/5.8 MB 78.1 MB/s eta 0:00:00
     ━━━━━━━━━━━━━━━━━━━━━━━━━━━━━━━━━━━━━━━━ 1.4/1.4 MB 57.7 MB/s eta 0:00:00
     ━━━━━━━━━━━━━━━━━━━━━━━━━━━━━━━━━━━━━━━━ 17.3/17.3 MB 94.0 MB/s eta 0:00:00
     ━━━━━━━━━━━━━━━━━━━━━━━━━━━━━━━━━━━━━━━━ 40.9/40.9 kB 4.8 MB/s eta 0:00:00
     ━━━━━━━━━━━━━━━━━━━━━━━━━━━━━━━━━━━━━━ 222.3/222.3 kB 19.3 MB/s eta 0:00:00
     ━━━━━━━━━━━━━━━━━━━━━━━━━━━━━━━━━━━━━━━━ 4.9/4.9 MB 120.6 MB/s eta 0:00:00
  Building wheel for fire (setup.py) ... done
ERROR: pip's dependency resolver does not currently take into account all the packages that are installed. This behaviour is the source of the following dependency conflicts.
xarray 2022.12.0 requires packaging>=21.3, but you have packaging 20.9 which is incompatible.
statsmodels 0.13.5 requires packaging>=21.3, but you have packaging 20.9 which is incompatible.
plotnine 0.10.1 requires matplotlib>=3.5.0, but you have matplotlib 3.4.3 which is incompatible.
mizani 0.8.1 requires matplotlib>=3.5.0, but you have matplotlib 3.4.3 which is incompatible.
Import the required packages.

[ ]
  1
pip install numpy --upgrade
Looking in indexes: https://pypi.org/simple, https://us-python.pkg.dev/colab-wheels/public/simple/
Requirement already satisfied: numpy in /usr/local/lib/python3.9/dist-packages (1.24.2)

import numpy as np
import os

from tflite_model_maker.config import ExportFormat, QuantizationConfig
from tflite_model_maker import model_spec
from tflite_model_maker import object_detector

from tflite_support import metadata

import tensorflow as tf
assert tf.__version__.startswith('2')

tf.get_logger().setLevel('ERROR')
from absl import logging
logging.set_verbosity(logging.ERROR)


from google.colab import drive
drive.mount('/content/drive')
Mounted at /content/drive
[ ]
  1
!unzip /content/drive/MyDrive/MMU.zip
Archive:  /content/drive/MyDrive/MMU.zip
   creating: MMU/
  inflating: __MACOSX/._MMU          
   creating: MMU/validate/
  inflating: __MACOSX/MMU/._validate  
  inflating: MMU/.DS_Store           
  inflating: __MACOSX/MMU/._.DS_Store  
   creating: MMU/train/
  inflating: __MACOSX/MMU/._train    
  inflating: MMU/validate/istockphoto-179311497-612x612.xml  
  inflating: MMU/validate/575050366ea6baeb83eec0266752b28b.jpeg  
  inflating: __MACOSX/MMU/validate/._575050366ea6baeb83eec0266752b28b.jpeg  
  inflating: MMU/validate/man-hides-weapon-jeans-field-grass-setting-sun-hidden-gun-pocket-rear-view-214024697.xml  
  inflating: MMU/validate/12-Bra-Holster.jpeg  
  inflating: __MACOSX/MMU/validate/._12-Bra-Holster.jpeg  
  inflating: MMU/validate/ocf12012130-largejpg-dfccacff1cd4a0f0.jpeg  
  inflating: __MACOSX/MMU/validate/._ocf12012130-largejpg-dfccacff1cd4a0f0.jpeg  
  inflating: MMU/validate/download (1).xml  
  inflating: MMU/validate/635748780949579748-gun-DFP-feedback-0319.JP-1-1-FLA8QR0V-L581798094.jpeg  
  inflating: __MACOSX/MMU/validate/._635748780949579748-gun-DFP-feedback-0319.JP-1-1-FLA8QR0V-L581798094.jpeg  
  inflating: MMU/validate/images (1).xml  
  inflating: MMU/validate/9cc8e2d3173cf29c4699240ba8c6b914.xml  
  inflating: MMU/validate/conceal-carry-26729885 (1).jpeg  
  inflating: __MACOSX/MMU/validate/._conceal-carry-26729885 (1).jpeg  
  inflating: MMU/validate/4-OWB-Galco-Combat-Master-Belt.xml  
  inflating: MMU/validate/concealedcarrymain.xml  
  inflating: MMU/validate/images (2).jpeg  
  inflating: __MACOSX/MMU/validate/._images (2).jpeg  
  inflating: MMU/validate/91TcLPRGBVL._SY355_.jpeg  
  inflating: __MACOSX/MMU/validate/._91TcLPRGBVL._SY355_.jpeg  
  inflating: MMU/validate/download.jpeg  
  inflating: __MACOSX/MMU/validate/._download.jpeg  
  inflating: MMU/validate/230110160233-jersey-city-gun-file-032521.xml  
  inflating: MMU/validate/IMG_5299.jpeg  
  inflating: __MACOSX/MMU/validate/._IMG_5299.jpeg  
  inflating: MMU/validate/9ff043be72edf0c8ea1d17c71b81d616.xml  
  inflating: MMU/validate/b57fbfa7ec0319c3583b46a2509e8b2e.xml  
  inflating: MMU/validate/5-Shoulder-Holster.jpeg  
  inflating: __MACOSX/MMU/validate/._5-Shoulder-Holster.jpeg  
  inflating: MMU/validate/istockphoto-179311497-612x612.jpeg  
  inflating: __MACOSX/MMU/validate/._istockphoto-179311497-612x612.jpeg  
  inflating: MMU/validate/semi-automatic-handgun-camouflage-pant-pocket-white-back-91558686.jpeg  
  inflating: __MACOSX/MMU/validate/._semi-automatic-handgun-camouflage-pant-pocket-white-back-91558686.jpeg  
  inflating: MMU/validate/63c2520df0b04d13daed7666d76cb610.jpeg  
  inflating: __MACOSX/MMU/validate/._63c2520df0b04d13daed7666d76cb610.jpeg  
  inflating: MMU/validate/e1c25528f0a20fd2adcb9a545b25e5f8.xml  
  inflating: MMU/validate/9740b961d6d5809f69d19339cf75ffc1.jpeg  
  inflating: __MACOSX/MMU/validate/._9740b961d6d5809f69d19339cf75ffc1.jpeg  
  inflating: MMU/validate/91pZeiZOEWL._AC_UL210_SR210,210_.jpeg  
  inflating: __MACOSX/MMU/validate/._91pZeiZOEWL._AC_UL210_SR210,210_.jpeg  
  inflating: MMU/validate/Woman-Concealed-Handgun.xml  
  inflating: MMU/validate/AHCC19-carry-5.jpeg  
  inflating: __MACOSX/MMU/validate/._AHCC19-carry-5.jpeg  
  inflating: MMU/validate/0555b3c0b46b1f5a44942b46322e827a.jpeg  
  inflating: __MACOSX/MMU/validate/._0555b3c0b46b1f5a44942b46322e827a.jpeg  
  inflating: MMU/validate/3d909ea01446b8c38779af25c593cd04.xml  
  inflating: MMU/validate/conceal-carry-26729885.jpeg  
  inflating: __MACOSX/MMU/validate/._conceal-carry-26729885.jpeg  
  inflating: MMU/validate/e9527ba9d2283903eb018608b0647f91.jpeg  
  inflating: __MACOSX/MMU/validate/._e9527ba9d2283903eb018608b0647f91.jpeg  
  inflating: MMU/validate/d8c6c8aef662906ded5b61625f4cb135.xml  
  inflating: MMU/validate/istockphoto-487057262-612x612.jpeg  
  inflating: __MACOSX/MMU/validate/._istockphoto-487057262-612x612.jpeg  
  inflating: MMU/validate/5dc739a9ab97a2f562bdba2223757802 (1).jpeg  
  inflating: __MACOSX/MMU/validate/._5dc739a9ab97a2f562bdba2223757802 (1).jpeg  
  inflating: MMU/validate/best-pocket-pistol-5.jpeg  
  inflating: __MACOSX/MMU/validate/._best-pocket-pistol-5.jpeg  
  inflating: MMU/validate/man-pulls-gun-out-his-pocket-isolated-white-background-63914611.xml  
  inflating: MMU/validate/91967b30b9d4a45138897236eaec30f1.jpeg  
  inflating: __MACOSX/MMU/validate/._91967b30b9d4a45138897236eaec30f1.jpeg  
  inflating: MMU/validate/how-to-write-guns-pocket-shot1 (1).xml  
  inflating: MMU/validate/closeup-security-agent-business-suit-260nw-1358346476.xml  
  inflating: MMU/validate/Concealed20Weapon20Handgun20MGN201_1548952336368.png_69783303_ver1.0.jpeg  
  inflating: __MACOSX/MMU/validate/._Concealed20Weapon20Handgun20MGN201_1548952336368.png_69783303_ver1.0.jpeg  
  inflating: MMU/validate/81Ihu3GobsL._AC_UF1000,1000_QL80_.jpeg  
  inflating: __MACOSX/MMU/validate/._81Ihu3GobsL._AC_UF1000,1000_QL80_.jpeg  
  inflating: MMU/validate/pull-gun-out-pants-man-pulling-back-his-38369758.xml  
  inflating: MMU/validate/13 (1).jpeg  
  inflating: __MACOSX/MMU/validate/._13 (1).jpeg  
  inflating: MMU/validate/H7338fa4483374cda99891d5469898052F (1).xml  
  inflating: MMU/validate/IMG_5309.jpeg  
  inflating: __MACOSX/MMU/validate/._IMG_5309.jpeg  
  inflating: MMU/validate/e7fed919-24db-41a1-bc2f-ad5d18a63c7c-jumbo36x25_gun1.xml  
  inflating: MMU/validate/classes.txt  
  inflating: MMU/validate/pistol-pocket-jeans-pistol-pocket-jeans-228488908.xml  
  inflating: MMU/validate/istockphoto-1307422868-612x612.xml  
  inflating: MMU/validate/2-IWB-Belt-Loops.jpeg  
  inflating: __MACOSX/MMU/validate/._2-IWB-Belt-Loops.jpeg  
  inflating: MMU/validate/businessman-pulling-gun-out-pocket-94418811.xml  
  inflating: MMU/validate/a114a8eb58dad24f4a879bc692ea61db.jpeg  
  inflating: __MACOSX/MMU/validate/._a114a8eb58dad24f4a879bc692ea61db.jpeg  
  inflating: MMU/validate/c14465438d5f62f65974111137049d86.jpeg  
  inflating: __MACOSX/MMU/validate/._c14465438d5f62f65974111137049d86.jpeg  
  inflating: MMU/validate/9d6bf42b7bcf07820acf29d0d486ce99.xml  
  inflating: MMU/validate/gun-pistol-blue-jeans-pocket-gun-pistol-new-blue-jeans-pocket-219984988.xml  
  inflating: MMU/validate/4d24aac2f11f6436ef6d3ad64b6911d9.jpeg  
  inflating: __MACOSX/MMU/validate/._4d24aac2f11f6436ef6d3ad64b6911d9.jpeg  
  inflating: MMU/validate/businessman-pulling-gun-out-pocket-94418811 2.xml  
  inflating: MMU/validate/H7338fa4483374cda99891d5469898052F.xml  
  inflating: MMU/validate/91TcLPRGBVL._SY355_.xml  
  inflating: MMU/validate/man-everyday-carry-items-edc-man-variety-everyday-carry-edc-items-gun-notes-pocket-knife-flashlight-209915129.jpeg  
  inflating: __MACOSX/MMU/validate/._man-everyday-carry-items-edc-man-variety-everyday-carry-edc-items-gun-notes-pocket-knife-flashlight-209915129.jpeg  
  inflating: MMU/validate/revolver-pocket-old-blue-jeans-67661677.jpeg  
  inflating: __MACOSX/MMU/validate/._revolver-pocket-old-blue-jeans-67661677.jpeg  
  inflating: MMU/validate/concealed-carry-writing-fiction-best-handguns.jpeg  
  inflating: __MACOSX/MMU/validate/._concealed-carry-writing-fiction-best-handguns.jpeg  
  inflating: MMU/validate/woman-iwb-holster.xml  
  inflating: MMU/validate/6b1358bc87662ea0fa15d22d12992dff.xml  
  inflating: MMU/validate/gun-pocket-6671617.jpeg  
  inflating: __MACOSX/MMU/validate/._gun-pocket-6671617.jpeg  
  inflating: MMU/validate/a12f4456b4c1cdd09ba20a0822311fbb.jpeg  
  inflating: __MACOSX/MMU/validate/._a12f4456b4c1cdd09ba20a0822311fbb.jpeg  
  inflating: MMU/validate/istockphoto-1098403978-612x612.xml  
  inflating: MMU/validate/YYHIWWFL4VKVZMSHB2WJKEIQGU (1).jpeg  
  inflating: __MACOSX/MMU/validate/._YYHIWWFL4VKVZMSHB2WJKEIQGU (1).jpeg  
  inflating: MMU/validate/55c5cba22f813df97e075f9b03b83e4a.xml  
  inflating: MMU/validate/gun-1024x683.jpeg  
  inflating: __MACOSX/MMU/validate/._gun-1024x683.jpeg  
  inflating: MMU/validate/mqdefault.xml  
  inflating: MMU/validate/mans-back-gun-tucked-pants-260nw-75301534.jpeg  
  inflating: __MACOSX/MMU/validate/._mans-back-gun-tucked-pants-260nw-75301534.jpeg  
  inflating: MMU/validate/cab6d352731213dfb80d773a661d3ab7.jpeg  
  inflating: __MACOSX/MMU/validate/._cab6d352731213dfb80d773a661d3ab7.jpeg  
  inflating: MMU/validate/gun-pocket-jeans-trousers-fighting-loaded-pistol-pocket-jeans-gun-woman-jeans-pocket-dangerous-many-196230574.jpeg  
  inflating: __MACOSX/MMU/validate/._gun-pocket-jeans-trousers-fighting-loaded-pistol-pocket-jeans-gun-woman-jeans-pocket-dangerous-many-196230574.jpeg  
  inflating: MMU/validate/makarov-pistol-his-pants-white-background-39141212.jpeg  
  inflating: __MACOSX/MMU/validate/._makarov-pistol-his-pants-white-background-39141212.jpeg  
  inflating: MMU/validate/f1ad25913711983343484b46a520b54f.jpeg  
  inflating: __MACOSX/MMU/validate/._f1ad25913711983343484b46a520b54f.jpeg  
  inflating: MMU/validate/51+E2Nc-l2L.xml  
  inflating: MMU/validate/semi-automatic-handgun-camouflage-pant-pocket-white-back-91558464.jpeg  
  inflating: __MACOSX/MMU/validate/._semi-automatic-handgun-camouflage-pant-pocket-white-back-91558464.jpeg  
  inflating: MMU/validate/bb51ec2bc44367710afe04e2bcea9f65.xml  
  inflating: MMU/validate/IMG_5305.jpeg  
  inflating: __MACOSX/MMU/validate/._IMG_5305.jpeg  
  inflating: MMU/validate/3509e1e3c19df8961a6deaae4d8d1bfc.jpeg  
  inflating: __MACOSX/MMU/validate/._3509e1e3c19df8961a6deaae4d8d1bfc.jpeg  
  inflating: MMU/validate/dde1d7a7690664eeb27b6f846ec8087f (1).jpeg  
  inflating: __MACOSX/MMU/validate/._dde1d7a7690664eeb27b6f846ec8087f (1).jpeg  
  inflating: MMU/validate/0b08bd0f91d3d53394bf2903df7f0123.jpeg  
  inflating: __MACOSX/MMU/validate/._0b08bd0f91d3d53394bf2903df7f0123.jpeg  
  inflating: MMU/validate/man-pulls-gun-out-his-pocket-isolated-white-background-63914611.jpeg  
  inflating: __MACOSX/MMU/validate/._man-pulls-gun-out-his-pocket-isolated-white-background-63914611.jpeg  
  inflating: MMU/validate/IMG_5304.jpeg  
  inflating: __MACOSX/MMU/validate/._IMG_5304.jpeg  
  inflating: MMU/validate/mqdefault.jpeg  
  inflating: __MACOSX/MMU/validate/._mqdefault.jpeg  
  inflating: MMU/validate/a4e524fca03bacddd0dfd23ca8731635.xml  
  inflating: MMU/validate/c14465438d5f62f65974111137049d86.xml  
  inflating: MMU/validate/d6d16e3b29397ffa6f7cfba1bfef573a.xml  
  inflating: MMU/validate/little-boy-plastic-gun-jeans-pocket-happy-boy-toy-pistol-gun-playing-outdoors-summer-day-little-boy-119827385.jpeg  
  inflating: __MACOSX/MMU/validate/._little-boy-plastic-gun-jeans-pocket-happy-boy-toy-pistol-gun-playing-outdoors-summer-day-little-boy-119827385.jpeg  
  inflating: MMU/validate/woman-drawing-sig-from-concealed.jpeg  
  inflating: __MACOSX/MMU/validate/._woman-drawing-sig-from-concealed.jpeg  
  inflating: MMU/validate/6-Ankle-Holster.xml  
  inflating: MMU/validate/b91dd8d629c8d189344f3393ac3d0acc.xml  
  inflating: MMU/validate/7-Fanny-Pack-Draw.xml  
  inflating: MMU/validate/gun-pocket-jeans-93532290.xml  
  inflating: MMU/validate/makarov-pistol-pocket-person-white-background-39141074.jpeg  
  inflating: __MACOSX/MMU/validate/._makarov-pistol-pocket-person-white-background-39141074.jpeg  
  inflating: MMU/validate/3e140d4613b8f9ae048066dc0d799b98.xml  
  inflating: MMU/validate/9d6bf42b7bcf07820acf29d0d486ce99.jpeg  
  inflating: __MACOSX/MMU/validate/._9d6bf42b7bcf07820acf29d0d486ce99.jpeg  
  inflating: MMU/validate/istockphoto-174776200-612x612.xml  
  inflating: MMU/validate/7da0f5af5f9e2d1026baac613d7166ca.jpeg  
  inflating: __MACOSX/MMU/validate/._7da0f5af5f9e2d1026baac613d7166ca.jpeg  
  inflating: MMU/validate/images (4).jpeg  
  inflating: __MACOSX/MMU/validate/._images (4).jpeg  
  inflating: MMU/validate/c8256f3d145ff9758350151732ddfb3c.jpeg  
  inflating: __MACOSX/MMU/validate/._c8256f3d145ff9758350151732ddfb3c.jpeg  
  inflating: MMU/validate/download.xml  
  inflating: MMU/validate/651e420794c67cc16b459e84cd6959d8.xml  
  inflating: MMU/validate/images.jpeg  
  inflating: __MACOSX/MMU/validate/._images.jpeg  
  inflating: MMU/validate/mans-back-gun-tucked-pants-260nw-75301534.xml  
  inflating: MMU/validate/concealed-carry-writing-fiction-best-handguns.xml  
  inflating: MMU/validate/gun-woman-jeans-pocket-dangerous-260nw-129078473.jpeg  
  inflating: __MACOSX/MMU/validate/._gun-woman-jeans-pocket-dangerous-260nw-129078473.jpeg  
  inflating: MMU/validate/2135bf4b4d6bfe904d553a69fa2622d6.jpeg  
  inflating: __MACOSX/MMU/validate/._2135bf4b4d6bfe904d553a69fa2622d6.jpeg  
  inflating: MMU/validate/2649bd7531fc81d7888a17ac6c6e626b.jpeg  
  inflating: __MACOSX/MMU/validate/._2649bd7531fc81d7888a17ac6c6e626b.jpeg  
  inflating: MMU/validate/conceal_carry_gun_holster_1280.jpeg  
  inflating: __MACOSX/MMU/validate/._conceal_carry_gun_holster_1280.jpeg  
  inflating: MMU/validate/13-Mexican-Carry.jpeg  
  inflating: __MACOSX/MMU/validate/._13-Mexican-Carry.jpeg  
  inflating: MMU/validate/afnan.xml  
  inflating: MMU/validate/concealed-carry.jpeg  
  inflating: __MACOSX/MMU/validate/._concealed-carry.jpeg  
  inflating: MMU/validate/hqdefault.xml  
  inflating: MMU/validate/3e140d4613b8f9ae048066dc0d799b98.jpeg  
  inflating: __MACOSX/MMU/validate/._3e140d4613b8f9ae048066dc0d799b98.jpeg  
  inflating: MMU/validate/ffb0d28fab5eaac626861502654785f1.jpeg  
  inflating: __MACOSX/MMU/validate/._ffb0d28fab5eaac626861502654785f1.jpeg  
  inflating: MMU/validate/7da0f5af5f9e2d1026baac613d7166ca.xml  
  inflating: MMU/validate/IMG_5308.jpeg  
  inflating: __MACOSX/MMU/validate/._IMG_5308.jpeg  
  inflating: MMU/validate/makarov-pistol-pocket-person-white-background-39141074.xml  
  inflating: MMU/validate/istockphoto-123419010-612x612.jpeg  
  inflating: __MACOSX/MMU/validate/._istockphoto-123419010-612x612.jpeg  
  inflating: MMU/validate/1.jpeg     
  inflating: __MACOSX/MMU/validate/._1.jpeg  
  inflating: MMU/validate/c00268388075671d07ef82e69cb15e6c.xml  
  inflating: MMU/validate/istockphoto-1098404188-612x612.xml  
  inflating: MMU/validate/7-Fanny-Pack-Draw.jpeg  
  inflating: __MACOSX/MMU/validate/._7-Fanny-Pack-Draw.jpeg  
  inflating: MMU/validate/2db57fc09d4b7f07c4a701c2ca309fe4.xml  
  inflating: MMU/validate/61hm+N-DUeL._AC_UL210_SR210,210_.jpeg  
  inflating: __MACOSX/MMU/validate/._61hm+N-DUeL._AC_UL210_SR210,210_.jpeg  
  inflating: MMU/validate/f7b2a7af9aaa75fbd9b605f61285d091.jpeg  
  inflating: __MACOSX/MMU/validate/._f7b2a7af9aaa75fbd9b605f61285d091.jpeg  
  inflating: MMU/validate/c2fe0983e7b4a6582496e9800e583072.jpeg  
  inflating: __MACOSX/MMU/validate/._c2fe0983e7b4a6582496e9800e583072.jpeg  
  inflating: MMU/validate/ocf12012130-largejpg-dfccacff1cd4a0f0.xml  
  inflating: MMU/validate/91967b30b9d4a45138897236eaec30f1.xml  
  inflating: MMU/validate/2ead57cdfba62b6596d5dfcd55021815.jpeg  
  inflating: __MACOSX/MMU/validate/._2ead57cdfba62b6596d5dfcd55021815.jpeg  
  inflating: MMU/validate/dde1d7a7690664eeb27b6f846ec8087f (1).xml  
  inflating: MMU/validate/0b08bd0f91d3d53394bf2903df7f0123.xml  
  inflating: __MACOSX/MMU/validate/._0b08bd0f91d3d53394bf2903df7f0123.xml  
  inflating: MMU/validate/af4b7a8a7d7bc4017d5ba45190f2a2a7.xml  
  inflating: MMU/validate/conceal+carry.xml  
  inflating: MMU/validate/man-pulling-his-automatic-gun-out-jean-pocket-concealed-pistol-concept-197907831 (1).xml  
  inflating: MMU/validate/closeup-security-agent-business-suit-260nw-1358346476.jpeg  
  inflating: __MACOSX/MMU/validate/._closeup-security-agent-business-suit-260nw-1358346476.jpeg  
  inflating: MMU/validate/575050366ea6baeb83eec0266752b28b.xml  
  inflating: MMU/validate/conceal-carry-26729885 (1).xml  
  inflating: MMU/validate/download (1).jpeg  
  inflating: __MACOSX/MMU/validate/._download (1).jpeg  
  inflating: MMU/validate/3715ec98bb61058a8786ccffab144c7e.jpeg  
  inflating: __MACOSX/MMU/validate/._3715ec98bb61058a8786ccffab144c7e.jpeg  
  inflating: MMU/validate/IMG_5298.jpeg  
  inflating: __MACOSX/MMU/validate/._IMG_5298.jpeg  
  inflating: MMU/validate/a32b004a18e34035cd465f9179dd2f4c.xml  
  inflating: MMU/validate/3-IWB-Clips.xml  
  inflating: MMU/validate/2db57fc09d4b7f07c4a701c2ca309fe4.jpeg  
  inflating: __MACOSX/MMU/validate/._2db57fc09d4b7f07c4a701c2ca309fe4.jpeg  
  inflating: MMU/validate/NAA-BW-in-Pocket-Holster.jpeg  
  inflating: __MACOSX/MMU/validate/._NAA-BW-in-Pocket-Holster.jpeg  
  inflating: MMU/validate/33f8efe91dd624cd1eab3541ff37070d.xml  
  inflating: MMU/validate/pistol-pocket-jeans-pistol-pocket-jeans-228488942.jpeg  
  inflating: __MACOSX/MMU/validate/._pistol-pocket-jeans-pistol-pocket-jeans-228488942.jpeg  
  inflating: MMU/validate/d8c6c8aef662906ded5b61625f4cb135.jpeg  
  inflating: __MACOSX/MMU/validate/._d8c6c8aef662906ded5b61625f4cb135.jpeg  
  inflating: MMU/validate/5d7a246d-11bb-4edd-a06f-ba4a0896ad1e_1140x641.jpeg  
  inflating: __MACOSX/MMU/validate/._5d7a246d-11bb-4edd-a06f-ba4a0896ad1e_1140x641.jpeg  
  inflating: MMU/validate/istockphoto-1307422868-612x612 (1).jpeg  
  inflating: __MACOSX/MMU/validate/._istockphoto-1307422868-612x612 (1).jpeg  
  inflating: MMU/validate/concealed.xml  
  inflating: MMU/validate/hero-primary-edc.jpeg  
  inflating: __MACOSX/MMU/validate/._hero-primary-edc.jpeg  
  inflating: MMU/validate/af4b7a8a7d7bc4017d5ba45190f2a2a7.jpeg  
  inflating: __MACOSX/MMU/validate/._af4b7a8a7d7bc4017d5ba45190f2a2a7.jpeg  
  inflating: MMU/validate/robber-hiding-gun-back-pocket-jeans-to-threaten-victim-abandoned-meadow-sunset-light-criminal-murder-safety-104778497.jpeg  
  inflating: __MACOSX/MMU/validate/._robber-hiding-gun-back-pocket-jeans-to-threaten-victim-abandoned-meadow-sunset-light-criminal-murder-safety-104778497.jpeg  
  inflating: MMU/validate/711zw4Op9uL._AC_UF350,350_QL80_.xml  
  inflating: MMU/validate/13 (1).xml  
  inflating: MMU/validate/4eaed5100fe37aa066f3fe94d95ce7fd.jpeg  
  inflating: __MACOSX/MMU/validate/._4eaed5100fe37aa066f3fe94d95ce7fd.jpeg  
  inflating: MMU/validate/220315-ohio-conceal-carry-mn-1515-ee38cf.xml  
  inflating: MMU/validate/c8b785a6cc894e5e2add975779d33af1.jpeg  
  inflating: __MACOSX/MMU/validate/._c8b785a6cc894e5e2add975779d33af1.jpeg  
  inflating: MMU/validate/ea36708b6f098af6602852fc88bd65b5.jpeg  
  inflating: __MACOSX/MMU/validate/._ea36708b6f098af6602852fc88bd65b5.jpeg  
  inflating: MMU/validate/hand-pulls-out-revolver-pocket-human-blue-jeans-instagram-image-filter-retro-style-66462409.xml  
  inflating: MMU/validate/d52ed9d51d8d0ba05347bc59f9a733b0.jpeg  
  inflating: __MACOSX/MMU/validate/._d52ed9d51d8d0ba05347bc59f9a733b0.jpeg  
  inflating: MMU/validate/a4e524fca03bacddd0dfd23ca8731635.jpeg  
  inflating: __MACOSX/MMU/validate/._a4e524fca03bacddd0dfd23ca8731635.jpeg  
  inflating: MMU/validate/ccw-full.xml  
  inflating: MMU/validate/d8c6c8aef662906ded5b61625f4cb135 (1).xml  
  inflating: MMU/validate/gun-pocket-jeans-trousers-fighting-loaded-pistol-pocket-jeans-gun-woman-jeans-pocket-dangerous-many-196230531.xml  
  inflating: MMU/validate/222dcd7ea50da131bf74a0aa97b4e501.xml  
  inflating: MMU/validate/pistol-pocket-jeans-pistol-pocket-jeans-228488908.jpeg  
  inflating: __MACOSX/MMU/validate/._pistol-pocket-jeans-pistol-pocket-jeans-228488908.jpeg  
  inflating: MMU/validate/istockphoto-487057262-612x612.xml  
  inflating: MMU/validate/woman-iwb-holster.jpeg  
  inflating: __MACOSX/MMU/validate/._woman-iwb-holster.jpeg  
  inflating: MMU/validate/a32b004a18e34035cd465f9179dd2f4c.jpeg  
  inflating: __MACOSX/MMU/validate/._a32b004a18e34035cd465f9179dd2f4c.jpeg  
  inflating: MMU/validate/images (1).jpeg  
  inflating: __MACOSX/MMU/validate/._images (1).jpeg  
  inflating: MMU/validate/281e1a051498e665dd20c1f1a4a5f244.jpeg  
  inflating: __MACOSX/MMU/validate/._281e1a051498e665dd20c1f1a4a5f244.jpeg  
  inflating: MMU/validate/5b851797271c70d4773c3233abf8ecbc (1).xml  
  inflating: MMU/validate/089a75515c2059812837491e746f890c.xml  
  inflating: MMU/validate/20.jpeg    
  inflating: __MACOSX/MMU/validate/._20.jpeg  
  inflating: MMU/validate/31df3188a4c0fb37a8f47641395e41db.xml  
  inflating: MMU/validate/concealed-carry-two-carry-methods.xml  
  inflating: MMU/validate/d341d6292128bac2f1cc43664bd19940.jpeg  
  inflating: __MACOSX/MMU/validate/._d341d6292128bac2f1cc43664bd19940.jpeg  
  inflating: MMU/validate/4254eb7b8d72b451b7b1cbd71a97acdf.jpeg  
  inflating: __MACOSX/MMU/validate/._4254eb7b8d72b451b7b1cbd71a97acdf.jpeg  
  inflating: MMU/validate/90c92be0a6a19cc21fe2d9dc0e478ee3.jpeg  
  inflating: __MACOSX/MMU/validate/._90c92be0a6a19cc21fe2d9dc0e478ee3.jpeg  
  inflating: MMU/validate/21576132-large.xml  
  inflating: MMU/validate/little-boy-plastic-gun-jeans-pocket-happy-boy-toy-pistol-gun-playing-outdoors-summer-day-little-boy-119827385.xml  
  inflating: MMU/validate/istockphoto-175488597-612x612.jpeg  
  inflating: __MACOSX/MMU/validate/._istockphoto-175488597-612x612.jpeg  
  inflating: MMU/validate/5e5668ec9bf643b4cef9cf223c626e31.xml  
  inflating: MMU/validate/91pZeiZOEWL._AC_UL210_SR210,210_.xml  
  inflating: MMU/validate/e25513d67f5a47077d0b89838e33f68d.jpeg  
  inflating: __MACOSX/MMU/validate/._e25513d67f5a47077d0b89838e33f68d.jpeg  
  inflating: MMU/validate/15.xml     
  inflating: MMU/validate/IMG_5303.jpeg  
  inflating: __MACOSX/MMU/validate/._IMG_5303.jpeg  
  inflating: MMU/validate/69cf6030d5621c6bdb56f1b464309520.jpeg  
  inflating: __MACOSX/MMU/validate/._69cf6030d5621c6bdb56f1b464309520.jpeg  
  inflating: MMU/validate/b91dd8d629c8d189344f3393ac3d0acc (1).jpeg  
  inflating: __MACOSX/MMU/validate/._b91dd8d629c8d189344f3393ac3d0acc (1).jpeg  
  inflating: MMU/validate/man-pulling-gun-out-pocket-25125766.xml  
  inflating: MMU/validate/pull-gun-out-pants-man-pulling-back-his-38369758.jpeg  
  inflating: __MACOSX/MMU/validate/._pull-gun-out-pants-man-pulling-back-his-38369758.jpeg  
  inflating: MMU/validate/closeup-image-businessman-big-stack-money-putting-handgun-his-jacket-pocket-closeup-photo-businessman-big-127054509.xml  
  inflating: MMU/validate/Concealing-Full-Size-Handguns-Alien-Gear-1911-Holster.xml  
  inflating: MMU/validate/51+E2Nc-l2L.jpeg  
  inflating: __MACOSX/MMU/validate/._51+E2Nc-l2L.jpeg  
  inflating: MMU/validate/670a95da764d2d04979b17791336fef6.xml  
  inflating: MMU/validate/e503ee228951e0263ddc4a934c4f9abf.jpeg  
  inflating: __MACOSX/MMU/validate/._e503ee228951e0263ddc4a934c4f9abf.jpeg  
  inflating: MMU/validate/gun-1024x683.xml  
  inflating: MMU/validate/images (3).jpeg  
  inflating: __MACOSX/MMU/validate/._images (3).jpeg  
  inflating: MMU/validate/istockphoto-185065704-612x612.jpeg  
  inflating: __MACOSX/MMU/validate/._istockphoto-185065704-612x612.jpeg  
  inflating: MMU/validate/istockphoto-1098403978-612x612 (1).jpeg  
  inflating: __MACOSX/MMU/validate/._istockphoto-1098403978-612x612 (1).jpeg  
  inflating: MMU/validate/12-Bra-Holster.xml  
  inflating: MMU/validate/Conceal_Carry.jpeg  
  inflating: __MACOSX/MMU/validate/._Conceal_Carry.jpeg  
  inflating: MMU/validate/businessman-pulling-gun-out-pocket-94418811 2.jpeg  
  inflating: __MACOSX/MMU/validate/._businessman-pulling-gun-out-pocket-94418811 2.jpeg  
  inflating: MMU/validate/0c14c419bc3e69ebea20006b626e0819.jpeg  
  inflating: __MACOSX/MMU/validate/._0c14c419bc3e69ebea20006b626e0819.jpeg  
  inflating: MMU/validate/5674c5f6418fb1bbc7743630b4b9bbf6.xml  
  inflating: MMU/validate/mdccw_squat.xml  
  inflating: MMU/validate/fe038c10b4cf0d8bf0585e52046462a5.jpeg  
  inflating: __MACOSX/MMU/validate/._fe038c10b4cf0d8bf0585e52046462a5.jpeg  
  inflating: MMU/validate/how-to-write-guns-pocket-shot1.xml  
  inflating: MMU/validate/08f27fe5bded47696028ca82d0d60ce5.jpeg  
  inflating: __MACOSX/MMU/validate/._08f27fe5bded47696028ca82d0d60ce5.jpeg  
  inflating: MMU/validate/istockphoto-123419010-612x612.xml  
  inflating: MMU/validate/2c3854e43c4950ce288a60967a2b57fb.xml  
  inflating: MMU/validate/man-everyday-carry-items-edc-man-variety-everyday-carry-edc-items-gun-notes-pocket-knife-flashlight-209915129.xml  
  inflating: MMU/validate/e660df3b2bc7ad4c332d9d574176cb3c.xml  
  inflating: MMU/validate/4254eb7b8d72b451b7b1cbd71a97acdf (1).jpeg  
  inflating: __MACOSX/MMU/validate/._4254eb7b8d72b451b7b1cbd71a97acdf (1).jpeg  
  inflating: MMU/validate/9f4c4832047f797a8cf7953727f66ca9.jpeg  
  inflating: __MACOSX/MMU/validate/._9f4c4832047f797a8cf7953727f66ca9.jpeg  
  inflating: MMU/validate/pistol-pocket-jeans-pistol-pocket-jeans-228488942.xml  
  inflating: MMU/validate/2.-Womens-Concealed-Carry-AIWB-1200x800.jpeg  
  inflating: __MACOSX/MMU/validate/._2.-Womens-Concealed-Carry-AIWB-1200x800.jpeg  
  inflating: MMU/validate/f43eb51b9e0911035364014bebb9c5a6.xml  
  inflating: MMU/validate/istockphoto-990958458-612x612.xml  
  inflating: MMU/validate/063853a73e86c3a7592e537a0431c9e0.xml  
  inflating: MMU/validate/man-pulling-his-automatic-gun-out-jean-pocket-man-pulling-his-automatic-gun-out-jean-pocket-concealed-pistol-concept-197907891.xml  
  inflating: MMU/validate/dc844b00697d81289f4a95315631e341.jpeg  
  inflating: __MACOSX/MMU/validate/._dc844b00697d81289f4a95315631e341.jpeg  
  inflating: MMU/validate/7.jpeg     
  inflating: __MACOSX/MMU/validate/._7.jpeg  
  inflating: MMU/validate/e14e787eb5fd0e6a1df1a3052539411d.xml  
  inflating: MMU/validate/e9527ba9d2283903eb018608b0647f91.xml  
  inflating: MMU/validate/51ca0feddae4b1890a075033b2afd2b6.xml  
  inflating: MMU/validate/revealing-firearm-26729923.xml  
  inflating: MMU/validate/0c14c419bc3e69ebea20006b626e0819.xml  
  inflating: MMU/validate/8d6200c01cb0628eb4cb69c3552276b0.xml  
  inflating: MMU/validate/istockphoto-1355729092-612x612.jpeg  
  inflating: __MACOSX/MMU/validate/._istockphoto-1355729092-612x612.jpeg  
  inflating: MMU/validate/semi-automatic-handgun-camouflage-pant-pocket-white-back-91558686.xml  
  inflating: MMU/validate/4d24aac2f11f6436ef6d3ad64b6911d9.xml  
  inflating: MMU/validate/d633f3a3bf843edbaeb4b3f71a893f84.jpeg  
  inflating: __MACOSX/MMU/validate/._d633f3a3bf843edbaeb4b3f71a893f84.jpeg  
  inflating: MMU/validate/istockphoto-1098404188-612x612.jpeg  
  inflating: __MACOSX/MMU/validate/._istockphoto-1098404188-612x612.jpeg  
  inflating: MMU/validate/b9bcb90b2fbd476a4f6958d3b136a02b.jpeg  
  inflating: __MACOSX/MMU/validate/._b9bcb90b2fbd476a4f6958d3b136a02b.jpeg  
  inflating: MMU/validate/dde1d7a7690664eeb27b6f846ec8087f (2).jpeg  
  inflating: __MACOSX/MMU/validate/._dde1d7a7690664eeb27b6f846ec8087f (2).jpeg  
  inflating: MMU/validate/220315085314-concealed-gun-stock.xml  
  inflating: MMU/validate/3509e1e3c19df8961a6deaae4d8d1bfc.xml  
  inflating: MMU/validate/51ca0feddae4b1890a075033b2afd2b6.jpeg  
  inflating: __MACOSX/MMU/validate/._51ca0feddae4b1890a075033b2afd2b6.jpeg  
  inflating: MMU/validate/74403bf4daa6f88e568a58c694c11cbf.jpeg  
  inflating: __MACOSX/MMU/validate/._74403bf4daa6f88e568a58c694c11cbf.jpeg  
  inflating: MMU/validate/man-pulling-his-automatic-gun-out-jean-pocket-man-pulling-his-automatic-gun-out-jean-pocket-concealed-pistol-concept-197907891.jpeg  
  inflating: __MACOSX/MMU/validate/._man-pulling-his-automatic-gun-out-jean-pocket-man-pulling-his-automatic-gun-out-jean-pocket-concealed-pistol-concept-197907891.jpeg  
  inflating: MMU/validate/5dc739a9ab97a2f562bdba2223757802.jpeg  
  inflating: __MACOSX/MMU/validate/._5dc739a9ab97a2f562bdba2223757802.jpeg  
  inflating: MMU/validate/gun-pocket-jeans-trousers-fighting-loaded-pistol-pocket-jeans-gun-woman-jeans-pocket-dangerous-many-196230442.xml  
  inflating: MMU/validate/2-IWB-Belt-Loops.xml  
  inflating: MMU/validate/concealedcarry6.xml  
  inflating: MMU/validate/gun-woman-jeans-pocket-dangerous-260nw-129078473.xml  
  inflating: MMU/validate/f128c19bab6f9a00d0e138860fd9debe.xml  
  inflating: MMU/validate/ad6de849ced67c3d5bf76e21f1c2b801.jpeg  
  inflating: __MACOSX/MMU/validate/._ad6de849ced67c3d5bf76e21f1c2b801.jpeg  
  inflating: MMU/validate/13.xml     
  inflating: MMU/validate/3d909ea01446b8c38779af25c593cd04.jpeg  
  inflating: __MACOSX/MMU/validate/._3d909ea01446b8c38779af25c593cd04.jpeg  
  inflating: MMU/validate/b7751d81172c14a226174ccddf7f2cb7.xml  
  inflating: MMU/validate/f128c19bab6f9a00d0e138860fd9debe.jpeg  
  inflating: __MACOSX/MMU/validate/._f128c19bab6f9a00d0e138860fd9debe.jpeg  
  inflating: MMU/validate/semi-automatic-handgun-camouflage-pant-pocket-white-back-91558199.jpeg  
  inflating: __MACOSX/MMU/validate/._semi-automatic-handgun-camouflage-pant-pocket-white-back-91558199.jpeg  
  inflating: MMU/validate/5dc739a9ab97a2f562bdba2223757802 (1).xml  
  inflating: MMU/validate/e7fed919-24db-41a1-bc2f-ad5d18a63c7c-jumbo36x25_gun1.jpeg  
  inflating: __MACOSX/MMU/validate/._e7fed919-24db-41a1-bc2f-ad5d18a63c7c-jumbo36x25_gun1.jpeg  
  inflating: MMU/validate/IMG_5302.jpeg  
  inflating: __MACOSX/MMU/validate/._IMG_5302.jpeg  
  inflating: MMU/validate/hero-primary-edc.xml  
  inflating: MMU/validate/IMG_5308.xml  
  inflating: MMU/validate/gun-pocket-jeans-trousers-fighting-loaded-pistol-pocket-jeans-gun-woman-jeans-pocket-dangerous-many-196230565.jpeg  
  inflating: __MACOSX/MMU/validate/._gun-pocket-jeans-trousers-fighting-loaded-pistol-pocket-jeans-gun-woman-jeans-pocket-dangerous-many-196230565.jpeg  
  inflating: MMU/validate/download (2).jpeg  
  inflating: __MACOSX/MMU/validate/._download (2).jpeg  
  inflating: MMU/validate/4254eb7b8d72b451b7b1cbd71a97acdf (1).xml  
  inflating: MMU/validate/c85eed898e2f42d01fd2b543b77694b4.xml  
  inflating: MMU/validate/3715ec98bb61058a8786ccffab144c7e.xml  
  inflating: MMU/validate/istockphoto-671431546-612x612.jpeg  
  inflating: __MACOSX/MMU/validate/._istockphoto-671431546-612x612.jpeg  
  inflating: MMU/validate/conceal+carry.jpeg  
  inflating: __MACOSX/MMU/validate/._conceal+carry.jpeg  
  inflating: MMU/validate/e1c25528f0a20fd2adcb9a545b25e5f8.jpeg  
  inflating: __MACOSX/MMU/validate/._e1c25528f0a20fd2adcb9a545b25e5f8.jpeg  
  inflating: MMU/validate/IMG_5297.xml  
  inflating: MMU/validate/624f48c69f2a55463ec630942163ae3d.jpeg  
  inflating: __MACOSX/MMU/validate/._624f48c69f2a55463ec630942163ae3d.jpeg  
  inflating: MMU/validate/NAA-BW-in-Pocket-Holster.xml  
  inflating: MMU/validate/b57fbfa7ec0319c3583b46a2509e8b2e.jpeg  
  inflating: __MACOSX/MMU/validate/._b57fbfa7ec0319c3583b46a2509e8b2e.jpeg  
  inflating: MMU/validate/3-IWB-Clips.jpeg  
  inflating: __MACOSX/MMU/validate/._3-IWB-Clips.jpeg  
  inflating: MMU/validate/4254eb7b8d72b451b7b1cbd71a97acdf.xml  
  inflating: MMU/validate/c85eed898e2f42d01fd2b543b77694b4.jpeg  
  inflating: __MACOSX/MMU/validate/._c85eed898e2f42d01fd2b543b77694b4.jpeg  
  inflating: MMU/validate/590cc6fda2e166d71729dc9e578a067f.xml  
  inflating: MMU/validate/10-APPENDIX-Carry.xml  
  inflating: MMU/validate/istockphoto-866398382-170667a.xml  
  inflating: MMU/validate/gun-pocket-jeans-93532290.jpeg  
  inflating: __MACOSX/MMU/validate/._gun-pocket-jeans-93532290.jpeg  
  inflating: MMU/validate/silver-revolver-back-pocket-old-blue-jeans-leather-belt-95109666.jpeg  
  inflating: __MACOSX/MMU/validate/._silver-revolver-back-pocket-old-blue-jeans-leather-belt-95109666.jpeg  
  inflating: MMU/validate/81ef492d0565373df96e693dba1ce2c7.jpeg  
  inflating: __MACOSX/MMU/validate/._81ef492d0565373df96e693dba1ce2c7.jpeg  
  inflating: MMU/validate/c00268388075671d07ef82e69cb15e6c.jpeg  
  inflating: __MACOSX/MMU/validate/._c00268388075671d07ef82e69cb15e6c.jpeg  
  inflating: MMU/validate/e503ee228951e0263ddc4a934c4f9abf.xml  
  inflating: MMU/validate/man-pulling-gun-out-pocket-25125766.jpeg  
  inflating: __MACOSX/MMU/validate/._man-pulling-gun-out-pocket-25125766.jpeg  
  inflating: MMU/validate/2.-Womens-Concealed-Carry-AIWB-1200x800.xml  
  inflating: MMU/validate/IWB-Concealed-Carry2.xml  
  inflating: MMU/validate/Conceal_Carry.xml  
  inflating: MMU/validate/istockphoto-185065704-612x612.xml  
  inflating: MMU/validate/35f6ecc6cd32d51c143f51293b8d23c3.jpeg  
  inflating: __MACOSX/MMU/validate/._35f6ecc6cd32d51c143f51293b8d23c3.jpeg  
  inflating: MMU/validate/575050366ea6baeb83eec0266752b28b (1).xml  
  inflating: MMU/validate/gun-back-pocket-greenish-trousers-157727655.jpeg  
  inflating: __MACOSX/MMU/validate/._gun-back-pocket-greenish-trousers-157727655.jpeg  
  inflating: MMU/validate/2134702728e266f641bcab8279dfa7e6.jpeg  
  inflating: __MACOSX/MMU/validate/._2134702728e266f641bcab8279dfa7e6.jpeg  
  inflating: MMU/validate/gun-back-pocket-gun-back-pocket-greenish-trousers-153530959.xml  
  inflating: MMU/validate/IMG_5309.xml  
  inflating: MMU/validate/man-green-cloth-hides-firearm-behind-his-back-criminal-concept-hidden-weapon-gun-jeans-pocket-rear-view-214024693.jpeg  
  inflating: __MACOSX/MMU/validate/._man-green-cloth-hides-firearm-behind-his-back-criminal-concept-hidden-weapon-gun-jeans-pocket-rear-view-214024693.jpeg  
  inflating: MMU/validate/concealed.jpeg  
  inflating: __MACOSX/MMU/validate/._concealed.jpeg  
  inflating: MMU/validate/a114a8eb58dad24f4a879bc692ea61db.xml  
  inflating: MMU/validate/SoBCover.xml  
  inflating: MMU/validate/6e89a86e86e124ea43318c8b1b3566b0.xml  
  inflating: MMU/validate/gun-back-pocket-gun-back-pocket-greenish-trousers-153530959.jpeg  
  inflating: __MACOSX/MMU/validate/._gun-back-pocket-gun-back-pocket-greenish-trousers-153530959.jpeg  
  inflating: MMU/validate/ConcealCarry_1200x.jpeg  
  inflating: __MACOSX/MMU/validate/._ConcealCarry_1200x.jpeg  
  inflating: MMU/validate/752804d20fd47fad4ed6dcee15e1176f.jpeg  
  inflating: __MACOSX/MMU/validate/._752804d20fd47fad4ed6dcee15e1176f.jpeg  
  inflating: MMU/validate/gun-pocket-jeans-trousers-fighting-loaded-pistol-pocket-jeans-gun-woman-jeans-pocket-dangerous-many-196230531.jpeg  
  inflating: __MACOSX/MMU/validate/._gun-pocket-jeans-trousers-fighting-loaded-pistol-pocket-jeans-gun-woman-jeans-pocket-dangerous-many-196230531.jpeg  
  inflating: MMU/validate/istockphoto-185059996-612x612.xml  
  inflating: MMU/validate/b7751d81172c14a226174ccddf7f2cb7.jpeg  
  inflating: __MACOSX/MMU/validate/._b7751d81172c14a226174ccddf7f2cb7.jpeg  
  inflating: MMU/validate/8642ef8610a16a1a1daf2c9a9c8de697.jpeg  
  inflating: __MACOSX/MMU/validate/._8642ef8610a16a1a1daf2c9a9c8de697.jpeg  
  inflating: MMU/validate/pistol-pocket-jeans-pistol-pocket-jeans-228488961.xml  
  inflating: MMU/validate/IMG_5301.jpeg  
  inflating: __MACOSX/MMU/validate/._IMG_5301.jpeg  
  inflating: MMU/validate/2649bd7531fc81d7888a17ac6c6e626b.xml  
  inflating: MMU/validate/concealed-carry (1).jpeg  
  inflating: __MACOSX/MMU/validate/._concealed-carry (1).jpeg  
  inflating: MMU/validate/IMG_5310.xml  
  inflating: MMU/validate/IMG_5304.xml  
  inflating: MMU/validate/businessman-pulling-gun-out-pocket-94418811.jpeg  
  inflating: __MACOSX/MMU/validate/._businessman-pulling-gun-out-pocket-94418811.jpeg  
  inflating: MMU/validate/5b851797271c70d4773c3233abf8ecbc.jpeg  
  inflating: __MACOSX/MMU/validate/._5b851797271c70d4773c3233abf8ecbc.jpeg  
  inflating: MMU/validate/5f61ed286e5e879d88a5acf1e77dfc8f.xml  
  inflating: MMU/validate/gun-back-pocket-greenish-trousers-260nw-1454156216.xml  
  inflating: MMU/validate/afnan.jpeg  
  inflating: __MACOSX/MMU/validate/._afnan.jpeg  
  inflating: MMU/validate/0555b3c0b46b1f5a44942b46322e827a.xml  
  inflating: MMU/validate/575050366ea6baeb83eec0266752b28b (2).jpeg  
  inflating: __MACOSX/MMU/validate/._575050366ea6baeb83eec0266752b28b (2).jpeg  
  inflating: MMU/validate/bb51ec2bc44367710afe04e2bcea9f65.jpeg  
  inflating: __MACOSX/MMU/validate/._bb51ec2bc44367710afe04e2bcea9f65.jpeg  
  inflating: MMU/validate/IMG_guncc_1_1_1_IQ6A1GS.jpeg  
  inflating: __MACOSX/MMU/validate/._IMG_guncc_1_1_1_IQ6A1GS.jpeg  
  inflating: MMU/validate/gun-back-pocket-gun-back-pocket-greenish-trousers-152564768.jpeg  
  inflating: __MACOSX/MMU/validate/._gun-back-pocket-gun-back-pocket-greenish-trousers-152564768.jpeg  
  inflating: MMU/validate/5b851797271c70d4773c3233abf8ecbc.xml  
  inflating: MMU/validate/063853a73e86c3a7592e537a0431c9e0.jpeg  
  inflating: __MACOSX/MMU/validate/._063853a73e86c3a7592e537a0431c9e0.jpeg  
  inflating: MMU/validate/220315-ohio-conceal-carry-mn-1515-ee38cf.jpeg  
  inflating: __MACOSX/MMU/validate/._220315-ohio-conceal-carry-mn-1515-ee38cf.jpeg  
  inflating: MMU/validate/13-Mexican-Carry.xml  
  inflating: MMU/validate/31cc806c9712665e648ae4fb4dba5895.xml  
  inflating: MMU/validate/f43eb51b9e0911035364014bebb9c5a6.jpeg  
  inflating: __MACOSX/MMU/validate/._f43eb51b9e0911035364014bebb9c5a6.jpeg  
  inflating: MMU/validate/lace_blouse_show_1_large.jpeg  
  inflating: __MACOSX/MMU/validate/._lace_blouse_show_1_large.jpeg  
  inflating: MMU/validate/4eaed5100fe37aa066f3fe94d95ce7fd.xml  
  inflating: MMU/validate/istockphoto-895042140-612x612.xml  
  inflating: MMU/validate/ccw-full.jpeg  
  inflating: __MACOSX/MMU/validate/._ccw-full.jpeg  
  inflating: MMU/validate/575050366ea6baeb83eec0266752b28b (2).xml  
  inflating: MMU/validate/624f48c69f2a55463ec630942163ae3d.xml  
  inflating: MMU/validate/concealing-firearm-26729882.xml  
  inflating: MMU/validate/81ef492d0565373df96e693dba1ce2c7.xml  
  inflating: MMU/validate/IMG_5305.xml  
  inflating: MMU/validate/IMG_5311.xml  
  inflating: MMU/validate/55c5cba22f813df97e075f9b03b83e4a.jpeg  
  inflating: __MACOSX/MMU/validate/._55c5cba22f813df97e075f9b03b83e4a.jpeg  
  inflating: MMU/validate/20.xml     
  inflating: MMU/validate/d633f3a3bf843edbaeb4b3f71a893f84.xml  
  inflating: MMU/validate/5cad1ca80d3449a0c8a4cf0e60929275.xml  
  inflating: MMU/validate/istockphoto-1307422868-612x612.jpeg  
  inflating: __MACOSX/MMU/validate/._istockphoto-1307422868-612x612.jpeg  
  inflating: MMU/validate/61hm+N-DUeL._AC_UL210_SR210,210_.xml  
  inflating: MMU/validate/5674c5f6418fb1bbc7743630b4b9bbf6.jpeg  
  inflating: __MACOSX/MMU/validate/._5674c5f6418fb1bbc7743630b4b9bbf6.jpeg  
  inflating: MMU/validate/appendix-draw.jpeg  
  inflating: __MACOSX/MMU/validate/._appendix-draw.jpeg  
  inflating: MMU/validate/IMG_5307.xml  
  inflating: MMU/validate/c8b785a6cc894e5e2add975779d33af1.xml  
  inflating: MMU/validate/274709886_2135065033313670_8735176271542652138_n.xml  
  inflating: MMU/validate/revealing-concealed-firearm-26729916.xml  
  inflating: MMU/validate/d6d16e3b29397ffa6f7cfba1bfef573a.jpeg  
  inflating: __MACOSX/MMU/validate/._d6d16e3b29397ffa6f7cfba1bfef573a.jpeg  
  inflating: MMU/validate/5dc739a9ab97a2f562bdba2223757802.xml  
  inflating: MMU/validate/istockphoto-175488597-612x612.xml  
  inflating: MMU/validate/how-to-write-guns-pocket-shot1 (2).jpeg  
  inflating: __MACOSX/MMU/validate/._how-to-write-guns-pocket-shot1 (2).jpeg  
  inflating: MMU/validate/752804d20fd47fad4ed6dcee15e1176f.xml  
  inflating: MMU/validate/41MTLbp-w7L._AC_UF1000,1000_QL80_.xml  
  inflating: MMU/validate/IMG_5298.xml  
  inflating: MMU/validate/d8c6c8aef662906ded5b61625f4cb135 (2).jpeg  
  inflating: __MACOSX/MMU/validate/._d8c6c8aef662906ded5b61625f4cb135 (2).jpeg  
  inflating: MMU/validate/Elegant+&+Armed+-+Concealed+Carry+-+Lethal+Lace_0014.xml  
  inflating: MMU/validate/b91dd8d629c8d189344f3393ac3d0acc (1).xml  
  inflating: MMU/validate/istockphoto-866398382-170667a.jpeg  
  inflating: __MACOSX/MMU/validate/._istockphoto-866398382-170667a.jpeg  
  inflating: MMU/validate/f1ad25913711983343484b46a520b54f.xml  
  inflating: MMU/validate/concealedcarrymain.jpeg  
  inflating: __MACOSX/MMU/validate/._concealedcarrymain.jpeg  
  inflating: MMU/validate/365feb4d613d79a73d4e9a08048277f9.jpeg  
  inflating: __MACOSX/MMU/validate/._365feb4d613d79a73d4e9a08048277f9.jpeg  
  inflating: MMU/validate/mdccw_squat.jpeg  
  inflating: __MACOSX/MMU/validate/._mdccw_squat.jpeg  
  inflating: MMU/validate/handgun-gun-holster-man-pocket-handgun-gun-holster-man-pocket-173901562.jpeg  
  inflating: __MACOSX/MMU/validate/._handgun-gun-holster-man-pocket-handgun-gun-holster-man-pocket-173901562.jpeg  
  inflating: MMU/validate/robber-hiding-gun-back-pocket-jeans-to-threaten-victim-abandoned-meadow-sunset-light-criminal-murder-safety-104778497.xml  
  inflating: MMU/validate/ebdffb135460524c994684f16ca23a8a.xml  
  inflating: MMU/validate/IMG_5299.xml  
  inflating: MMU/validate/05293175d091e0881782c5b1ecb8ef2b.xml  
  inflating: MMU/validate/11-Thigh-Holster.jpeg  
  inflating: __MACOSX/MMU/validate/._11-Thigh-Holster.jpeg  
  inflating: MMU/validate/gun-pocket-jeans-trousers-fighting-loaded-pistol-pocket-jeans-gun-woman-jeans-pocket-dangerous-many-196230442.jpeg  
  inflating: __MACOSX/MMU/validate/._gun-pocket-jeans-trousers-fighting-loaded-pistol-pocket-jeans-gun-woman-jeans-pocket-dangerous-many-196230442.jpeg  
  inflating: MMU/validate/c8256f3d145ff9758350151732ddfb3c.xml  
  inflating: MMU/validate/21576132-large.jpeg  
  inflating: __MACOSX/MMU/validate/._21576132-large.jpeg  
  inflating: MMU/validate/H88352a25e7e0461f947c402365c68321q.jpeg  
  inflating: __MACOSX/MMU/validate/._H88352a25e7e0461f947c402365c68321q.jpeg  
  inflating: MMU/validate/6e611ccabffec3787c722eec86b1e9e9.xml  
  inflating: MMU/validate/9cc8e2d3173cf29c4699240ba8c6b914.jpeg  
  inflating: __MACOSX/MMU/validate/._9cc8e2d3173cf29c4699240ba8c6b914.jpeg  
  inflating: MMU/validate/IMG_5306.xml  
  inflating: MMU/validate/fe038c10b4cf0d8bf0585e52046462a5.xml  
  inflating: MMU/validate/23.xml     
  inflating: MMU/validate/campus-carry.xml  
  inflating: MMU/validate/5d7a246d-11bb-4edd-a06f-ba4a0896ad1e_1140x641.xml  
  inflating: MMU/validate/9-BB-Holster.jpeg  
  inflating: __MACOSX/MMU/validate/._9-BB-Holster.jpeg  
  inflating: MMU/validate/81Ihu3GobsL._AC_UF1000,1000_QL80_.xml  
  inflating: MMU/validate/ea36708b6f098af6602852fc88bd65b5.xml  
  inflating: MMU/validate/9f4c4832047f797a8cf7953727f66ca9.xml  
  inflating: MMU/validate/IMG_5302.xml  
  inflating: MMU/validate/images (4).xml  
  inflating: MMU/validate/01f797d5c8addcbff88ca702e9ef6263.xml  
  inflating: MMU/validate/H88352a25e7e0461f947c402365c68321q.xml  
  inflating: MMU/validate/15.jpeg    
  inflating: __MACOSX/MMU/validate/._15.jpeg  
  inflating: MMU/validate/e14e787eb5fd0e6a1df1a3052539411d.jpeg  
  inflating: __MACOSX/MMU/validate/._e14e787eb5fd0e6a1df1a3052539411d.jpeg  
  inflating: MMU/validate/gun-holstered-at-hip.jpeg  
  inflating: __MACOSX/MMU/validate/._gun-holstered-at-hip.jpeg  
  inflating: MMU/validate/9080AE47-89DF-428B-B236-698D99DB4014_large.jpeg  
  inflating: __MACOSX/MMU/validate/._9080AE47-89DF-428B-B236-698D99DB4014_large.jpeg  
  inflating: MMU/validate/H7338fa4483374cda99891d5469898052F.jpeg  
  inflating: __MACOSX/MMU/validate/._H7338fa4483374cda99891d5469898052F.jpeg  
  inflating: MMU/validate/Woman-Concealed-Handgun.jpeg  
  inflating: __MACOSX/MMU/validate/._Woman-Concealed-Handgun.jpeg  
  inflating: MMU/validate/DRESS_10xt_belly_band_1mg (1).jpeg  
  inflating: __MACOSX/MMU/validate/._DRESS_10xt_belly_band_1mg (1).jpeg  
  inflating: MMU/validate/ad6de849ced67c3d5bf76e21f1c2b801.xml  
  inflating: MMU/validate/campus-carry.jpeg  
  inflating: __MACOSX/MMU/validate/._campus-carry.jpeg  
  inflating: MMU/validate/concealed-carry (1).xml  
  inflating: MMU/validate/istockphoto-990958458-612x612.jpeg  
  inflating: __MACOSX/MMU/validate/._istockphoto-990958458-612x612.jpeg  
  inflating: MMU/validate/220315085314-concealed-gun-stock.jpeg  
  inflating: __MACOSX/MMU/validate/._220315085314-concealed-gun-stock.jpeg  
  inflating: MMU/validate/closeup-image-businessman-big-stack-money-putting-handgun-his-jacket-pocket-closeup-photo-businessman-big-127054509.jpeg  
  inflating: __MACOSX/MMU/validate/._closeup-image-businessman-big-stack-money-putting-handgun-his-jacket-pocket-closeup-photo-businessman-big-127054509.jpeg  
  inflating: MMU/validate/05293175d091e0881782c5b1ecb8ef2b.jpeg  
  inflating: __MACOSX/MMU/validate/._05293175d091e0881782c5b1ecb8ef2b.jpeg  
  inflating: MMU/validate/closeup-gun-being-drawn-12814502.jpeg  
  inflating: __MACOSX/MMU/validate/._closeup-gun-being-drawn-12814502.jpeg  
  inflating: MMU/validate/gun-pocket-jeans-trousers-fighting-loaded-pistol-pocket-jeans-gun-woman-jeans-pocket-dangerous-many-196230438.jpeg  
  inflating: __MACOSX/MMU/validate/._gun-pocket-jeans-trousers-fighting-loaded-pistol-pocket-jeans-gun-woman-jeans-pocket-dangerous-many-196230438.jpeg  
  inflating: MMU/validate/revealing-firearm-26729923.jpeg  
  inflating: __MACOSX/MMU/validate/._revealing-firearm-26729923.jpeg  
  inflating: MMU/validate/90c92be0a6a19cc21fe2d9dc0e478ee3.xml  
  inflating: MMU/validate/35f6ecc6cd32d51c143f51293b8d23c3.xml  
  inflating: MMU/validate/8d6200c01cb0628eb4cb69c3552276b0.jpeg  
  inflating: __MACOSX/MMU/validate/._8d6200c01cb0628eb4cb69c3552276b0.jpeg  
  inflating: MMU/validate/small-revolver-self-defence-pocket-shirt-lot-places-need-something-to-do-138893334.jpeg  
  inflating: __MACOSX/MMU/validate/._small-revolver-self-defence-pocket-shirt-lot-places-need-something-to-do-138893334.jpeg  
  inflating: MMU/validate/6b1358bc87662ea0fa15d22d12992dff.jpeg  
  inflating: __MACOSX/MMU/validate/._6b1358bc87662ea0fa15d22d12992dff.jpeg  
  inflating: MMU/validate/IMG_5303.xml  
  inflating: MMU/validate/tucked-belt-pistol-being-concealed-260nw-90457432.xml  
  inflating: MMU/validate/gun-back-pocket-greenish-trousers-260nw-1464736163.xml  
  inflating: MMU/validate/concealed-carry-777x437.xml  
  inflating: MMU/validate/gun-pistol-blue-jeans-pocket-gun-pistol-new-blue-jeans-pocket-219984988.jpeg  
  inflating: __MACOSX/MMU/validate/._gun-pistol-blue-jeans-pocket-gun-pistol-new-blue-jeans-pocket-219984988.jpeg  
  inflating: MMU/validate/ConcealCarry_1200x.xml  
  inflating: MMU/validate/2134702728e266f641bcab8279dfa7e6.xml  
  inflating: MMU/validate/33fce06006986c549d4db5edd7d03555.jpeg  
  inflating: __MACOSX/MMU/validate/._33fce06006986c549d4db5edd7d03555.jpeg  
  inflating: MMU/validate/small-revolver-self-defence-pocket-shirt-lot-places-need-something-to-do-138893334.xml  
  inflating: MMU/validate/2135bf4b4d6bfe904d553a69fa2622d6.xml  
  inflating: MMU/validate/5cad1ca80d3449a0c8a4cf0e60929275.jpeg  
  inflating: __MACOSX/MMU/validate/._5cad1ca80d3449a0c8a4cf0e60929275.jpeg  
  inflating: MMU/validate/IMG_5301.xml  
  inflating: MMU/validate/d8c6c8aef662906ded5b61625f4cb135 (2).xml  
  inflating: MMU/validate/gun-back-pocket-gun-back-pocket-greenish-trousers-152564768.xml  
  inflating: MMU/validate/concealed-carry.xml  
  inflating: MMU/validate/semi-automatic-handgun-camouflage-pant-pocket-white-back-91558464.xml  
  inflating: MMU/validate/appendix-draw.xml  
  inflating: MMU/validate/Concealed20Weapon20Handgun20MGN201_1548952336368.png_69783303_ver1.0.xml  
  inflating: MMU/validate/EXLWYRqWoAENYhB.jpeg  
  inflating: __MACOSX/MMU/validate/._EXLWYRqWoAENYhB.jpeg  
  inflating: MMU/validate/EXLWYRqWoAENYhB.xml  
  inflating: MMU/validate/MDP25UMY3ZENFBRVGGWT3DKZA4.xml  
  inflating: MMU/validate/4b0ffe02-7204-46d3-91de-10ab9bd8744d-large1x1_Gunconcealedcarry.jpeg  
  inflating: __MACOSX/MMU/validate/._4b0ffe02-7204-46d3-91de-10ab9bd8744d-large1x1_Gunconcealedcarry.jpeg  
  inflating: MMU/validate/6-Ankle-Holster.jpeg  
  inflating: __MACOSX/MMU/validate/._6-Ankle-Holster.jpeg  
  inflating: MMU/validate/23.jpeg    
  inflating: __MACOSX/MMU/validate/._23.jpeg  
  inflating: MMU/validate/DRESS_10xt_belly_band_1mg.xml  
  inflating: MMU/validate/istockphoto-185059996-612x612.jpeg  
  inflating: __MACOSX/MMU/validate/._istockphoto-185059996-612x612.jpeg  
  inflating: MMU/validate/635748780949579748-gun-DFP-feedback-0319.JP-1-1-FLA8QR0V-L581798094.xml  
  inflating: MMU/validate/istockphoto-1334890762-612x612.xml  
  inflating: MMU/validate/Elegant+&+Armed+-+Concealed+Carry+-+Lethal+Lace_0014.jpeg  
  inflating: __MACOSX/MMU/validate/._Elegant+&+Armed+-+Concealed+Carry+-+Lethal+Lace_0014.jpeg  
  inflating: MMU/validate/742061a5159f63d1d63f5d487aa7e843.xml  
  inflating: MMU/validate/ece5cd47a7bf911ede37cf0c2658113b.jpeg  
  inflating: __MACOSX/MMU/validate/._ece5cd47a7bf911ede37cf0c2658113b.jpeg  
  inflating: MMU/validate/679c8d76bca0869989673149136717a8.xml  
  inflating: MMU/validate/IMG_5300.xml  
  inflating: MMU/validate/11-Thigh-Holster.xml  
  inflating: MMU/validate/810e9c6e7bd258ba8953f945a49dd0dc.xml  
  inflating: MMU/validate/IMG_5300.jpeg  
  inflating: __MACOSX/MMU/validate/._IMG_5300.jpeg  
  inflating: MMU/validate/gun-back-pocket-greenish-trousers-260nw-1454156216.jpeg  
  inflating: __MACOSX/MMU/validate/._gun-back-pocket-greenish-trousers-260nw-1454156216.jpeg  
  inflating: MMU/validate/33c45034a88a8310d6d9ada5269a8bec.jpeg  
  inflating: __MACOSX/MMU/validate/._33c45034a88a8310d6d9ada5269a8bec.jpeg  
  inflating: MMU/validate/41MTLbp-w7L._AC_UF1000,1000_QL80_.jpeg  
  inflating: __MACOSX/MMU/validate/._41MTLbp-w7L._AC_UF1000,1000_QL80_.jpeg  
  inflating: MMU/validate/man-gun-21556810.jpeg  
  inflating: __MACOSX/MMU/validate/._man-gun-21556810.jpeg  
  inflating: MMU/validate/gun-back-pocket-greenish-trousers-157727655.xml  
  inflating: MMU/validate/742061a5159f63d1d63f5d487aa7e843.jpeg  
  inflating: __MACOSX/MMU/validate/._742061a5159f63d1d63f5d487aa7e843.jpeg  
  inflating: MMU/validate/9080AE47-89DF-428B-B236-698D99DB4014_large.xml  
  inflating: MMU/validate/810e9c6e7bd258ba8953f945a49dd0dc.jpeg  
  inflating: __MACOSX/MMU/validate/._810e9c6e7bd258ba8953f945a49dd0dc.jpeg  
  inflating: MMU/validate/a7237920a3a1f5d5b9423a1cd02276cf.jpeg  
  inflating: __MACOSX/MMU/validate/._a7237920a3a1f5d5b9423a1cd02276cf.jpeg  
  inflating: MMU/validate/gun-pocket-6671617.xml  
  inflating: MMU/validate/istockphoto-1098403978-612x612.jpeg  
  inflating: __MACOSX/MMU/validate/._istockphoto-1098403978-612x612.jpeg  
  inflating: MMU/validate/089a75515c2059812837491e746f890c.jpeg  
  inflating: __MACOSX/MMU/validate/._089a75515c2059812837491e746f890c.jpeg  
  inflating: MMU/validate/man-hides-weapon-jeans-field-grass-setting-sun-hidden-gun-pocket-rear-view-214024697.jpeg  
  inflating: __MACOSX/MMU/validate/._man-hides-weapon-jeans-field-grass-setting-sun-hidden-gun-pocket-rear-view-214024697.jpeg  
  inflating: MMU/validate/concealing-firearm-26729882.jpeg  
  inflating: __MACOSX/MMU/validate/._concealing-firearm-26729882.jpeg  
  inflating: MMU/validate/semi-automatic-handgun-camouflage-pant-pocket-white-back-91558199.xml  
  inflating: MMU/validate/hqdefault.jpeg  
  inflating: __MACOSX/MMU/validate/._hqdefault.jpeg  
  inflating: MMU/validate/58e5fe953be49a2b6474dbb7ac2f39c4.jpeg  
  inflating: __MACOSX/MMU/validate/._58e5fe953be49a2b6474dbb7ac2f39c4.jpeg  
  inflating: MMU/validate/679c8d76bca0869989673149136717a8.jpeg  
  inflating: __MACOSX/MMU/validate/._679c8d76bca0869989673149136717a8.jpeg  
  inflating: MMU/validate/dde1d7a7690664eeb27b6f846ec8087f (2).xml  
  inflating: MMU/validate/b9bcb90b2fbd476a4f6958d3b136a02b.xml  
  inflating: MMU/validate/5-Shoulder-Holster.xml  
  inflating: MMU/validate/cab6d352731213dfb80d773a661d3ab7.xml  
  inflating: MMU/validate/e660df3b2bc7ad4c332d9d574176cb3c.jpeg  
  inflating: __MACOSX/MMU/validate/._e660df3b2bc7ad4c332d9d574176cb3c.jpeg  
  inflating: MMU/validate/revealing-concealed-firearm-26729916.jpeg  
  inflating: __MACOSX/MMU/validate/._revealing-concealed-firearm-26729916.jpeg  
  inflating: MMU/validate/6e89a86e86e124ea43318c8b1b3566b0.jpeg  
  inflating: __MACOSX/MMU/validate/._6e89a86e86e124ea43318c8b1b3566b0.jpeg  
  inflating: MMU/validate/2ead57cdfba62b6596d5dfcd55021815.xml  
  inflating: MMU/validate/concealed-carry-777x437.jpeg  
  inflating: __MACOSX/MMU/validate/._concealed-carry-777x437.jpeg  
  inflating: MMU/validate/08f27fe5bded47696028ca82d0d60ce5.xml  
  inflating: MMU/validate/31cc806c9712665e648ae4fb4dba5895.jpeg  
  inflating: __MACOSX/MMU/validate/._31cc806c9712665e648ae4fb4dba5895.jpeg  
  inflating: MMU/validate/S3f167ff431da46878a3b4d8e74c222d7K.jpeg  
  inflating: __MACOSX/MMU/validate/._S3f167ff431da46878a3b4d8e74c222d7K.jpeg  
  inflating: MMU/validate/istockphoto-174776200-612x612.jpeg  
  inflating: __MACOSX/MMU/validate/._istockphoto-174776200-612x612.jpeg  
  inflating: MMU/validate/images (3).xml  
  inflating: MMU/validate/575050366ea6baeb83eec0266752b28b (1).jpeg  
  inflating: __MACOSX/MMU/validate/._575050366ea6baeb83eec0266752b28b (1).jpeg  
  inflating: MMU/validate/45.jpeg    
  inflating: __MACOSX/MMU/validate/._45.jpeg  
  inflating: MMU/validate/makarov-pistol-his-pants-white-background-39141212.xml  
  inflating: MMU/validate/IMG_5307.jpeg  
  inflating: __MACOSX/MMU/validate/._IMG_5307.jpeg  
  inflating: MMU/validate/7.xml      
  inflating: MMU/validate/pistol-pocket-jeans-pistol-pocket-jeans-228488961.jpeg  
  inflating: __MACOSX/MMU/validate/._pistol-pocket-jeans-pistol-pocket-jeans-228488961.jpeg  
  inflating: MMU/validate/31df3188a4c0fb37a8f47641395e41db.jpeg  
  inflating: __MACOSX/MMU/validate/._31df3188a4c0fb37a8f47641395e41db.jpeg  
  inflating: MMU/validate/gun-pocket-jeans-trousers-fighting-loaded-pistol-pocket-jeans-gun-woman-jeans-pocket-dangerous-many-196230438.xml  
  inflating: MMU/validate/gun-holstered-at-hip (1).xml  
  inflating: MMU/validate/closeup-gun-being-drawn-12814502.xml  
  inflating: MMU/validate/74403bf4daa6f88e568a58c694c11cbf.xml  
  inflating: MMU/validate/f6be4e84e4e0bb7603f93d65a8a6373c.xml  
  inflating: MMU/validate/a7237920a3a1f5d5b9423a1cd02276cf.xml  
  inflating: MMU/validate/590cc6fda2e166d71729dc9e578a067f.jpeg  
  inflating: __MACOSX/MMU/validate/._590cc6fda2e166d71729dc9e578a067f.jpeg  
  inflating: MMU/validate/IWB-Concealed-Carry2.jpeg  
  inflating: __MACOSX/MMU/validate/._IWB-Concealed-Carry2.jpeg  
  inflating: MMU/validate/5f61ed286e5e879d88a5acf1e77dfc8f.jpeg  
  inflating: __MACOSX/MMU/validate/._5f61ed286e5e879d88a5acf1e77dfc8f.jpeg  
  inflating: MMU/validate/c2fe0983e7b4a6582496e9800e583072.xml  
  inflating: MMU/validate/dde1d7a7690664eeb27b6f846ec8087f.xml  
  inflating: MMU/validate/IMG_5311.jpeg  
  inflating: __MACOSX/MMU/validate/._IMG_5311.jpeg  
  inflating: MMU/validate/4-OWB-Galco-Combat-Master-Belt.jpeg  
  inflating: __MACOSX/MMU/validate/._4-OWB-Galco-Combat-Master-Belt.jpeg  
  inflating: MMU/validate/istockphoto-1355729092-612x612.xml  
  inflating: MMU/validate/4b0ffe02-7204-46d3-91de-10ab9bd8744d-large1x1_Gunconcealedcarry.xml  
  inflating: MMU/validate/274709886_2135065033313670_8735176271542652138_n.jpeg  
  inflating: __MACOSX/MMU/validate/._274709886_2135065033313670_8735176271542652138_n.jpeg  
  inflating: MMU/validate/d52ed9d51d8d0ba05347bc59f9a733b0.xml  
  inflating: MMU/validate/9ff043be72edf0c8ea1d17c71b81d616.jpeg  
  inflating: __MACOSX/MMU/validate/._9ff043be72edf0c8ea1d17c71b81d616.jpeg  
  inflating: MMU/validate/33c45034a88a8310d6d9ada5269a8bec.xml  
  inflating: MMU/validate/8642ef8610a16a1a1daf2c9a9c8de697.xml  
  inflating: MMU/validate/6e611ccabffec3787c722eec86b1e9e9.jpeg  
  inflating: __MACOSX/MMU/validate/._6e611ccabffec3787c722eec86b1e9e9.jpeg  
  inflating: MMU/validate/b91dd8d629c8d189344f3393ac3d0acc.jpeg  
  inflating: __MACOSX/MMU/validate/._b91dd8d629c8d189344f3393ac3d0acc.jpeg  
  inflating: MMU/validate/092e6826a41a55a4afea87dba88aa6d1.xml  
  inflating: MMU/validate/concealed-carry-two-carry-methods.jpeg  
  inflating: __MACOSX/MMU/validate/._concealed-carry-two-carry-methods.jpeg  
  inflating: MMU/validate/gun-pocket-jeans-trousers-fighting-loaded-pistol-pocket-jeans-gun-woman-jeans-pocket-dangerous-many-196230565.xml  
  inflating: MMU/validate/0276437f3d8aeb8c19348fda3464cedc.xml  
  inflating: MMU/validate/IMG_5297.jpeg  
  inflating: __MACOSX/MMU/validate/._IMG_5297.jpeg  
  inflating: MMU/validate/SoBCover.jpeg  
  inflating: __MACOSX/MMU/validate/._SoBCover.jpeg  
  inflating: MMU/validate/size1.jpeg  
  inflating: __MACOSX/MMU/validate/._size1.jpeg  
  inflating: MMU/validate/d8c6c8aef662906ded5b61625f4cb135 (1).jpeg  
  inflating: __MACOSX/MMU/validate/._d8c6c8aef662906ded5b61625f4cb135 (1).jpeg  
  inflating: MMU/validate/9740b961d6d5809f69d19339cf75ffc1.xml  
  inflating: MMU/validate/how-to-write-guns-pocket-shot1 (1).jpeg  
  inflating: __MACOSX/MMU/validate/._how-to-write-guns-pocket-shot1 (1).jpeg  
  inflating: MMU/validate/10-APPENDIX-Carry.jpeg  
  inflating: __MACOSX/MMU/validate/._10-APPENDIX-Carry.jpeg  
  inflating: MMU/validate/revolver-pocket-old-blue-jeans-67661677.xml  
  inflating: MMU/validate/IMG_guncc_1_1_1_IQ6A1GS.xml  
  inflating: MMU/validate/istockphoto-1307422868-612x612 (1).xml  
  inflating: MMU/validate/woman-drawing-sig-from-concealed.xml  
  inflating: MMU/validate/230110160233-jersey-city-gun-file-032521.jpeg  
  inflating: __MACOSX/MMU/validate/._230110160233-jersey-city-gun-file-032521.jpeg  
  inflating: MMU/validate/dc844b00697d81289f4a95315631e341.xml  
  inflating: MMU/validate/how-to-write-guns-pocket-shot1.jpeg  
  inflating: __MACOSX/MMU/validate/._how-to-write-guns-pocket-shot1.jpeg  
  inflating: MMU/validate/lace_blouse_show_1_large.xml  
  inflating: MMU/validate/concealedcarry6.jpeg  
  inflating: __MACOSX/MMU/validate/._concealedcarry6.jpeg  
  inflating: MMU/validate/5e5668ec9bf643b4cef9cf223c626e31.jpeg  
  inflating: __MACOSX/MMU/validate/._5e5668ec9bf643b4cef9cf223c626e31.jpeg  
  inflating: MMU/validate/222dcd7ea50da131bf74a0aa97b4e501.jpeg  
  inflating: __MACOSX/MMU/validate/._222dcd7ea50da131bf74a0aa97b4e501.jpeg  
  inflating: MMU/validate/hand-pulls-out-revolver-pocket-human-blue-jeans-instagram-image-filter-retro-style-66462409.jpeg  
  inflating: __MACOSX/MMU/validate/._hand-pulls-out-revolver-pocket-human-blue-jeans-instagram-image-filter-retro-style-66462409.jpeg  
  inflating: MMU/validate/ebdffb135460524c994684f16ca23a8a.jpeg  
  inflating: __MACOSX/MMU/validate/._ebdffb135460524c994684f16ca23a8a.jpeg  
  inflating: MMU/validate/63c2520df0b04d13daed7666d76cb610.xml  
  inflating: MMU/validate/d341d6292128bac2f1cc43664bd19940.xml  
  inflating: MMU/validate/281e1a051498e665dd20c1f1a4a5f244.xml  
  inflating: MMU/validate/man-pulling-his-automatic-gun-out-jean-pocket-concealed-pistol-concept-197907831.jpeg  
  inflating: __MACOSX/MMU/validate/._man-pulling-his-automatic-gun-out-jean-pocket-concealed-pistol-concept-197907831.jpeg  
  inflating: MMU/validate/AHCC19-carry-5.xml  
  inflating: MMU/validate/istockphoto-671431546-612x612.xml  
  inflating: MMU/validate/IMG_5310.jpeg  
  inflating: __MACOSX/MMU/validate/._IMG_5310.jpeg  
  inflating: MMU/validate/33f8efe91dd624cd1eab3541ff37070d.jpeg  
  inflating: __MACOSX/MMU/validate/._33f8efe91dd624cd1eab3541ff37070d.jpeg  
  inflating: MMU/validate/man-green-cloth-hides-firearm-behind-his-back-criminal-concept-hidden-weapon-gun-jeans-pocket-rear-view-214024693.xml  
  inflating: MMU/validate/istockphoto-1334890762-612x612.jpeg  
  inflating: __MACOSX/MMU/validate/._istockphoto-1334890762-612x612.jpeg  
  inflating: MMU/validate/651e420794c67cc16b459e84cd6959d8.jpeg  
  inflating: __MACOSX/MMU/validate/._651e420794c67cc16b459e84cd6959d8.jpeg  
  inflating: MMU/validate/9-BB-Holster.xml  
  inflating: MMU/validate/gun-pocket-jeans-trousers-fighting-loaded-pistol-pocket-jeans-gun-woman-jeans-pocket-dangerous-many-196230574.xml  
  inflating: MMU/validate/670a95da764d2d04979b17791336fef6.jpeg  
  inflating: __MACOSX/MMU/validate/._670a95da764d2d04979b17791336fef6.jpeg  
  inflating: MMU/validate/2c3854e43c4950ce288a60967a2b57fb.jpeg  
  inflating: __MACOSX/MMU/validate/._2c3854e43c4950ce288a60967a2b57fb.jpeg  
  inflating: MMU/validate/handgun-gun-holster-man-pocket-handgun-gun-holster-man-pocket-173901562.xml  
  inflating: MMU/validate/best-pocket-pistol-5.xml  
  inflating: MMU/validate/man-pulling-out-gun-his-pocket-78063330.xml  
  inflating: MMU/validate/a12f4456b4c1cdd09ba20a0822311fbb.xml  
  inflating: MMU/validate/IMG_5306.jpeg  
  inflating: __MACOSX/MMU/validate/._IMG_5306.jpeg  
  inflating: MMU/validate/S3f167ff431da46878a3b4d8e74c222d7K.xml  
  inflating: MMU/validate/45.xml     
  inflating: MMU/validate/Concealing-Full-Size-Handguns-Alien-Gear-1911-Holster.jpeg  
  inflating: __MACOSX/MMU/validate/._Concealing-Full-Size-Handguns-Alien-Gear-1911-Holster.jpeg  
  inflating: MMU/validate/29a594df5f2f1c90a2deddfbc076283c.jpeg  
  inflating: __MACOSX/MMU/validate/._29a594df5f2f1c90a2deddfbc076283c.jpeg  
  inflating: MMU/validate/MDP25UMY3ZENFBRVGGWT3DKZA4.jpeg  
  inflating: __MACOSX/MMU/validate/._MDP25UMY3ZENFBRVGGWT3DKZA4.jpeg  
  inflating: MMU/validate/ffb0d28fab5eaac626861502654785f1.xml  
  inflating: MMU/validate/semi-automatic-handgun-camouflage-pant-pocket-white-back-91557907.jpeg  
  inflating: __MACOSX/MMU/validate/._semi-automatic-handgun-camouflage-pant-pocket-white-back-91557907.jpeg  
  inflating: MMU/validate/f6be4e84e4e0bb7603f93d65a8a6373c.jpeg  
  inflating: __MACOSX/MMU/validate/._f6be4e84e4e0bb7603f93d65a8a6373c.jpeg  
  inflating: MMU/validate/092e6826a41a55a4afea87dba88aa6d1.jpeg  
  inflating: __MACOSX/MMU/validate/._092e6826a41a55a4afea87dba88aa6d1.jpeg  
  inflating: MMU/validate/YYHIWWFL4VKVZMSHB2WJKEIQGU (1).xml  
  inflating: MMU/validate/1.xml      
  inflating: MMU/validate/DRESS_10xt_belly_band_1mg (1).xml  
  inflating: MMU/validate/conceal_carry_gun_holster_1280.xml  
  inflating: MMU/validate/download (2).xml  
  inflating: MMU/validate/images (2).xml  
  inflating: MMU/validate/man-gun-21556810.xml  
  inflating: MMU/validate/13.jpeg    
  inflating: __MACOSX/MMU/validate/._13.jpeg  
  inflating: MMU/validate/man-pulling-out-gun-his-pocket-78063330.jpeg  
  inflating: __MACOSX/MMU/validate/._man-pulling-out-gun-his-pocket-78063330.jpeg  
  inflating: MMU/validate/images.xml  
  inflating: MMU/validate/size1.xml  
  inflating: MMU/validate/istockphoto-1098403978-612x612 (1).xml  
  inflating: MMU/validate/conceal-carry-26729885.xml  
  inflating: MMU/validate/semi-automatic-handgun-camouflage-pant-pocket-white-back-91557907.xml  
  inflating: MMU/validate/33fce06006986c549d4db5edd7d03555.xml  
  inflating: MMU/validate/gun-back-pocket-greenish-trousers-260nw-1464736163.jpeg  
  inflating: __MACOSX/MMU/validate/._gun-back-pocket-greenish-trousers-260nw-1464736163.jpeg  
  inflating: MMU/validate/0276437f3d8aeb8c19348fda3464cedc.jpeg  
  inflating: __MACOSX/MMU/validate/._0276437f3d8aeb8c19348fda3464cedc.jpeg  
  inflating: MMU/validate/365feb4d613d79a73d4e9a08048277f9.xml  
  inflating: MMU/validate/man-pulling-his-automatic-gun-out-jean-pocket-concealed-pistol-concept-197907831 (1).jpeg  
  inflating: __MACOSX/MMU/validate/._man-pulling-his-automatic-gun-out-jean-pocket-concealed-pistol-concept-197907831 (1).jpeg  
  inflating: MMU/validate/5b851797271c70d4773c3233abf8ecbc (1).jpeg  
  inflating: __MACOSX/MMU/validate/._5b851797271c70d4773c3233abf8ecbc (1).jpeg  
  inflating: MMU/validate/69cf6030d5621c6bdb56f1b464309520.xml  
  inflating: MMU/validate/29a594df5f2f1c90a2deddfbc076283c.xml  
  inflating: MMU/validate/d6298c29ace79a52106800d59472415b.jpeg  
  inflating: __MACOSX/MMU/validate/._d6298c29ace79a52106800d59472415b.jpeg  
  inflating: MMU/validate/f7b2a7af9aaa75fbd9b605f61285d091.xml  
  inflating: MMU/validate/tucked-belt-pistol-being-concealed-260nw-90457432.jpeg  
  inflating: __MACOSX/MMU/validate/._tucked-belt-pistol-being-concealed-260nw-90457432.jpeg  
  inflating: MMU/validate/711zw4Op9uL._AC_UF350,350_QL80_.jpeg  
  inflating: __MACOSX/MMU/validate/._711zw4Op9uL._AC_UF350,350_QL80_.jpeg  
  inflating: MMU/validate/d6298c29ace79a52106800d59472415b.xml  
  inflating: MMU/validate/dde1d7a7690664eeb27b6f846ec8087f.jpeg  
  inflating: __MACOSX/MMU/validate/._dde1d7a7690664eeb27b6f846ec8087f.jpeg  
  inflating: MMU/validate/e25513d67f5a47077d0b89838e33f68d.xml  
  inflating: MMU/validate/01f797d5c8addcbff88ca702e9ef6263.jpeg  
  inflating: __MACOSX/MMU/validate/._01f797d5c8addcbff88ca702e9ef6263.jpeg  
  inflating: MMU/validate/gun-holstered-at-hip.xml  
  inflating: MMU/validate/how-to-write-guns-pocket-shot1 (2).xml  
  inflating: MMU/validate/H7338fa4483374cda99891d5469898052F (1).jpeg  
  inflating: __MACOSX/MMU/validate/._H7338fa4483374cda99891d5469898052F (1).jpeg  
  inflating: MMU/validate/DRESS_10xt_belly_band_1mg.jpeg  
  inflating: __MACOSX/MMU/validate/._DRESS_10xt_belly_band_1mg.jpeg  
  inflating: MMU/validate/ece5cd47a7bf911ede37cf0c2658113b.xml  
  inflating: MMU/validate/58e5fe953be49a2b6474dbb7ac2f39c4.xml  
  inflating: MMU/validate/man-pulling-his-automatic-gun-out-jean-pocket-concealed-pistol-concept-197907831.xml  
  inflating: MMU/validate/gun-holstered-at-hip (1).jpeg  
  inflating: __MACOSX/MMU/validate/._gun-holstered-at-hip (1).jpeg  
  inflating: MMU/validate/silver-revolver-back-pocket-old-blue-jeans-leather-belt-95109666.xml  
  inflating: MMU/validate/istockphoto-895042140-612x612.jpeg  
  inflating: __MACOSX/MMU/validate/._istockphoto-895042140-612x612.jpeg  
  inflating: MMU/train/istockphoto-179311497-612x612.xml  
  inflating: MMU/train/575050366ea6baeb83eec0266752b28b.jpeg  
  inflating: __MACOSX/MMU/train/._575050366ea6baeb83eec0266752b28b.jpeg  
  inflating: MMU/train/man-hides-weapon-jeans-field-grass-setting-sun-hidden-gun-pocket-rear-view-214024697.xml  
  inflating: MMU/train/12-Bra-Holster.jpeg  
  inflating: __MACOSX/MMU/train/._12-Bra-Holster.jpeg  
  inflating: MMU/train/ocf12012130-largejpg-dfccacff1cd4a0f0.jpeg  
  inflating: __MACOSX/MMU/train/._ocf12012130-largejpg-dfccacff1cd4a0f0.jpeg  
  inflating: MMU/train/download (1).xml  
  inflating: MMU/train/635748780949579748-gun-DFP-feedback-0319.JP-1-1-FLA8QR0V-L581798094.jpeg  
  inflating: __MACOSX/MMU/train/._635748780949579748-gun-DFP-feedback-0319.JP-1-1-FLA8QR0V-L581798094.jpeg  
  inflating: MMU/train/images (1).xml  
  inflating: MMU/train/9cc8e2d3173cf29c4699240ba8c6b914.xml  
  inflating: MMU/train/conceal-carry-26729885 (1).jpeg  
  inflating: __MACOSX/MMU/train/._conceal-carry-26729885 (1).jpeg  
  inflating: MMU/train/4-OWB-Galco-Combat-Master-Belt.xml  
  inflating: MMU/train/concealedcarrymain.xml  
  inflating: MMU/train/images (2).jpeg  
  inflating: __MACOSX/MMU/train/._images (2).jpeg  
  inflating: MMU/train/91TcLPRGBVL._SY355_.jpeg  
  inflating: __MACOSX/MMU/train/._91TcLPRGBVL._SY355_.jpeg  
  inflating: MMU/train/download.jpeg  
  inflating: __MACOSX/MMU/train/._download.jpeg  
  inflating: MMU/train/230110160233-jersey-city-gun-file-032521.xml  
  inflating: MMU/train/IMG_5299.jpeg  
  inflating: __MACOSX/MMU/train/._IMG_5299.jpeg  
  inflating: MMU/train/9ff043be72edf0c8ea1d17c71b81d616.xml  
  inflating: MMU/train/b57fbfa7ec0319c3583b46a2509e8b2e.xml  
  inflating: MMU/train/5-Shoulder-Holster.jpeg  
  inflating: __MACOSX/MMU/train/._5-Shoulder-Holster.jpeg  
  inflating: MMU/train/istockphoto-179311497-612x612.jpeg  
  inflating: __MACOSX/MMU/train/._istockphoto-179311497-612x612.jpeg  
  inflating: MMU/train/semi-automatic-handgun-camouflage-pant-pocket-white-back-91558686.jpeg  
  inflating: __MACOSX/MMU/train/._semi-automatic-handgun-camouflage-pant-pocket-white-back-91558686.jpeg  
  inflating: MMU/train/63c2520df0b04d13daed7666d76cb610.jpeg  
  inflating: __MACOSX/MMU/train/._63c2520df0b04d13daed7666d76cb610.jpeg  
  inflating: MMU/train/e1c25528f0a20fd2adcb9a545b25e5f8.xml  
  inflating: MMU/train/9740b961d6d5809f69d19339cf75ffc1.jpeg  
  inflating: __MACOSX/MMU/train/._9740b961d6d5809f69d19339cf75ffc1.jpeg  
  inflating: MMU/train/91pZeiZOEWL._AC_UL210_SR210,210_.jpeg  
  inflating: __MACOSX/MMU/train/._91pZeiZOEWL._AC_UL210_SR210,210_.jpeg  
  inflating: MMU/train/Woman-Concealed-Handgun.xml  
  inflating: MMU/train/AHCC19-carry-5.jpeg  
  inflating: __MACOSX/MMU/train/._AHCC19-carry-5.jpeg  
  inflating: MMU/train/0555b3c0b46b1f5a44942b46322e827a.jpeg  
  inflating: __MACOSX/MMU/train/._0555b3c0b46b1f5a44942b46322e827a.jpeg  
  inflating: MMU/train/3d909ea01446b8c38779af25c593cd04.xml  
  inflating: MMU/train/conceal-carry-26729885.jpeg  
  inflating: __MACOSX/MMU/train/._conceal-carry-26729885.jpeg  
  inflating: MMU/train/e9527ba9d2283903eb018608b0647f91.jpeg  
  inflating: __MACOSX/MMU/train/._e9527ba9d2283903eb018608b0647f91.jpeg  
  inflating: MMU/train/d8c6c8aef662906ded5b61625f4cb135.xml  
  inflating: MMU/train/istockphoto-487057262-612x612.jpeg  
  inflating: __MACOSX/MMU/train/._istockphoto-487057262-612x612.jpeg  
  inflating: MMU/train/5dc739a9ab97a2f562bdba2223757802 (1).jpeg  
  inflating: __MACOSX/MMU/train/._5dc739a9ab97a2f562bdba2223757802 (1).jpeg  
  inflating: MMU/train/best-pocket-pistol-5.jpeg  
  inflating: __MACOSX/MMU/train/._best-pocket-pistol-5.jpeg  
  inflating: MMU/train/man-pulls-gun-out-his-pocket-isolated-white-background-63914611.xml  
  inflating: MMU/train/91967b30b9d4a45138897236eaec30f1.jpeg  
  inflating: __MACOSX/MMU/train/._91967b30b9d4a45138897236eaec30f1.jpeg  
  inflating: MMU/train/how-to-write-guns-pocket-shot1 (1).xml  
  inflating: MMU/train/closeup-security-agent-business-suit-260nw-1358346476.xml  
  inflating: MMU/train/Concealed20Weapon20Handgun20MGN201_1548952336368.png_69783303_ver1.0.jpeg  
  inflating: __MACOSX/MMU/train/._Concealed20Weapon20Handgun20MGN201_1548952336368.png_69783303_ver1.0.jpeg  
  inflating: MMU/train/81Ihu3GobsL._AC_UF1000,1000_QL80_.jpeg  
  inflating: __MACOSX/MMU/train/._81Ihu3GobsL._AC_UF1000,1000_QL80_.jpeg  
  inflating: MMU/train/pull-gun-out-pants-man-pulling-back-his-38369758.xml  
  inflating: MMU/train/13 (1).jpeg   
  inflating: __MACOSX/MMU/train/._13 (1).jpeg  
  inflating: MMU/train/H7338fa4483374cda99891d5469898052F (1).xml  
  inflating: MMU/train/IMG_5309.jpeg  
  inflating: __MACOSX/MMU/train/._IMG_5309.jpeg  
  inflating: MMU/train/e7fed919-24db-41a1-bc2f-ad5d18a63c7c-jumbo36x25_gun1.xml  
  inflating: MMU/train/classes.txt   
  inflating: MMU/train/pistol-pocket-jeans-pistol-pocket-jeans-228488908.xml  
  inflating: MMU/train/istockphoto-1307422868-612x612.xml  
  inflating: MMU/train/2-IWB-Belt-Loops.jpeg  
  inflating: __MACOSX/MMU/train/._2-IWB-Belt-Loops.jpeg  
  inflating: MMU/train/businessman-pulling-gun-out-pocket-94418811.xml  
  inflating: MMU/train/a114a8eb58dad24f4a879bc692ea61db.jpeg  
  inflating: __MACOSX/MMU/train/._a114a8eb58dad24f4a879bc692ea61db.jpeg  
  inflating: MMU/train/c14465438d5f62f65974111137049d86.jpeg  
  inflating: __MACOSX/MMU/train/._c14465438d5f62f65974111137049d86.jpeg  
  inflating: MMU/train/9d6bf42b7bcf07820acf29d0d486ce99.xml  
  inflating: MMU/train/gun-pistol-blue-jeans-pocket-gun-pistol-new-blue-jeans-pocket-219984988.xml  
  inflating: MMU/train/4d24aac2f11f6436ef6d3ad64b6911d9.jpeg  
  inflating: __MACOSX/MMU/train/._4d24aac2f11f6436ef6d3ad64b6911d9.jpeg  
  inflating: MMU/train/businessman-pulling-gun-out-pocket-94418811 2.xml  
  inflating: MMU/train/H7338fa4483374cda99891d5469898052F.xml  
  inflating: MMU/train/91TcLPRGBVL._SY355_.xml  
  inflating: MMU/train/man-everyday-carry-items-edc-man-variety-everyday-carry-edc-items-gun-notes-pocket-knife-flashlight-209915129.jpeg  
  inflating: __MACOSX/MMU/train/._man-everyday-carry-items-edc-man-variety-everyday-carry-edc-items-gun-notes-pocket-knife-flashlight-209915129.jpeg  
  inflating: MMU/train/revolver-pocket-old-blue-jeans-67661677.jpeg  
  inflating: __MACOSX/MMU/train/._revolver-pocket-old-blue-jeans-67661677.jpeg  
  inflating: MMU/train/concealed-carry-writing-fiction-best-handguns.jpeg  
  inflating: __MACOSX/MMU/train/._concealed-carry-writing-fiction-best-handguns.jpeg  
  inflating: MMU/train/woman-iwb-holster.xml  
  inflating: MMU/train/6b1358bc87662ea0fa15d22d12992dff.xml  
  inflating: MMU/train/gun-pocket-6671617.jpeg  
  inflating: __MACOSX/MMU/train/._gun-pocket-6671617.jpeg  
  inflating: MMU/train/a12f4456b4c1cdd09ba20a0822311fbb.jpeg  
  inflating: __MACOSX/MMU/train/._a12f4456b4c1cdd09ba20a0822311fbb.jpeg  
  inflating: MMU/train/istockphoto-1098403978-612x612.xml  
  inflating: MMU/train/YYHIWWFL4VKVZMSHB2WJKEIQGU (1).jpeg  
  inflating: __MACOSX/MMU/train/._YYHIWWFL4VKVZMSHB2WJKEIQGU (1).jpeg  
  inflating: MMU/train/55c5cba22f813df97e075f9b03b83e4a.xml  
  inflating: MMU/train/gun-1024x683.jpeg  
  inflating: __MACOSX/MMU/train/._gun-1024x683.jpeg  
  inflating: MMU/train/mqdefault.xml  
  inflating: MMU/train/mans-back-gun-tucked-pants-260nw-75301534.jpeg  
  inflating: __MACOSX/MMU/train/._mans-back-gun-tucked-pants-260nw-75301534.jpeg  
  inflating: MMU/train/cab6d352731213dfb80d773a661d3ab7.jpeg  
  inflating: __MACOSX/MMU/train/._cab6d352731213dfb80d773a661d3ab7.jpeg  
  inflating: MMU/train/gun-pocket-jeans-trousers-fighting-loaded-pistol-pocket-jeans-gun-woman-jeans-pocket-dangerous-many-196230574.jpeg  
  inflating: __MACOSX/MMU/train/._gun-pocket-jeans-trousers-fighting-loaded-pistol-pocket-jeans-gun-woman-jeans-pocket-dangerous-many-196230574.jpeg  
  inflating: MMU/train/makarov-pistol-his-pants-white-background-39141212.jpeg  
  inflating: __MACOSX/MMU/train/._makarov-pistol-his-pants-white-background-39141212.jpeg  
  inflating: MMU/train/f1ad25913711983343484b46a520b54f.jpeg  
  inflating: __MACOSX/MMU/train/._f1ad25913711983343484b46a520b54f.jpeg  
  inflating: MMU/train/51+E2Nc-l2L.xml  
  inflating: MMU/train/semi-automatic-handgun-camouflage-pant-pocket-white-back-91558464.jpeg  
  inflating: __MACOSX/MMU/train/._semi-automatic-handgun-camouflage-pant-pocket-white-back-91558464.jpeg  
  inflating: MMU/train/bb51ec2bc44367710afe04e2bcea9f65.xml  
  inflating: MMU/train/IMG_5305.jpeg  
  inflating: __MACOSX/MMU/train/._IMG_5305.jpeg  
  inflating: MMU/train/3509e1e3c19df8961a6deaae4d8d1bfc.jpeg  
  inflating: __MACOSX/MMU/train/._3509e1e3c19df8961a6deaae4d8d1bfc.jpeg  
  inflating: MMU/train/dde1d7a7690664eeb27b6f846ec8087f (1).jpeg  
  inflating: __MACOSX/MMU/train/._dde1d7a7690664eeb27b6f846ec8087f (1).jpeg  
  inflating: MMU/train/0b08bd0f91d3d53394bf2903df7f0123.jpeg  
  inflating: __MACOSX/MMU/train/._0b08bd0f91d3d53394bf2903df7f0123.jpeg  
  inflating: MMU/train/man-pulls-gun-out-his-pocket-isolated-white-background-63914611.jpeg  
  inflating: __MACOSX/MMU/train/._man-pulls-gun-out-his-pocket-isolated-white-background-63914611.jpeg  
  inflating: MMU/train/IMG_5304.jpeg  
  inflating: __MACOSX/MMU/train/._IMG_5304.jpeg  
  inflating: MMU/train/mqdefault.jpeg  
  inflating: __MACOSX/MMU/train/._mqdefault.jpeg  
  inflating: MMU/train/a4e524fca03bacddd0dfd23ca8731635.xml  
  inflating: MMU/train/c14465438d5f62f65974111137049d86.xml  
  inflating: MMU/train/d6d16e3b29397ffa6f7cfba1bfef573a.xml  
  inflating: MMU/train/little-boy-plastic-gun-jeans-pocket-happy-boy-toy-pistol-gun-playing-outdoors-summer-day-little-boy-119827385.jpeg  
  inflating: __MACOSX/MMU/train/._little-boy-plastic-gun-jeans-pocket-happy-boy-toy-pistol-gun-playing-outdoors-summer-day-little-boy-119827385.jpeg  
  inflating: MMU/train/woman-drawing-sig-from-concealed.jpeg  
  inflating: __MACOSX/MMU/train/._woman-drawing-sig-from-concealed.jpeg  
  inflating: MMU/train/6-Ankle-Holster.xml  
  inflating: MMU/train/b91dd8d629c8d189344f3393ac3d0acc.xml  
  inflating: MMU/train/7-Fanny-Pack-Draw.xml  
  inflating: MMU/train/gun-pocket-jeans-93532290.xml  
  inflating: MMU/train/makarov-pistol-pocket-person-white-background-39141074.jpeg  
  inflating: __MACOSX/MMU/train/._makarov-pistol-pocket-person-white-background-39141074.jpeg  
  inflating: MMU/train/3e140d4613b8f9ae048066dc0d799b98.xml  
  inflating: MMU/train/9d6bf42b7bcf07820acf29d0d486ce99.jpeg  
  inflating: __MACOSX/MMU/train/._9d6bf42b7bcf07820acf29d0d486ce99.jpeg  
  inflating: MMU/train/istockphoto-174776200-612x612.xml  
  inflating: MMU/train/7da0f5af5f9e2d1026baac613d7166ca.jpeg  
  inflating: __MACOSX/MMU/train/._7da0f5af5f9e2d1026baac613d7166ca.jpeg  
  inflating: MMU/train/images (4).jpeg  
  inflating: __MACOSX/MMU/train/._images (4).jpeg  
  inflating: MMU/train/c8256f3d145ff9758350151732ddfb3c.jpeg  
  inflating: __MACOSX/MMU/train/._c8256f3d145ff9758350151732ddfb3c.jpeg  
  inflating: MMU/train/.DS_Store     
  inflating: __MACOSX/MMU/train/._.DS_Store  
  inflating: MMU/train/download.xml  
  inflating: MMU/train/651e420794c67cc16b459e84cd6959d8.xml  
  inflating: MMU/train/images.jpeg   
  inflating: __MACOSX/MMU/train/._images.jpeg  
  inflating: MMU/train/mans-back-gun-tucked-pants-260nw-75301534.xml  
  inflating: MMU/train/concealed-carry-writing-fiction-best-handguns.xml  
  inflating: MMU/train/gun-woman-jeans-pocket-dangerous-260nw-129078473.jpeg  
  inflating: __MACOSX/MMU/train/._gun-woman-jeans-pocket-dangerous-260nw-129078473.jpeg  
  inflating: MMU/train/2135bf4b4d6bfe904d553a69fa2622d6.jpeg  
  inflating: __MACOSX/MMU/train/._2135bf4b4d6bfe904d553a69fa2622d6.jpeg  
  inflating: MMU/train/2649bd7531fc81d7888a17ac6c6e626b.jpeg  
  inflating: __MACOSX/MMU/train/._2649bd7531fc81d7888a17ac6c6e626b.jpeg  
  inflating: MMU/train/conceal_carry_gun_holster_1280.jpeg  
  inflating: __MACOSX/MMU/train/._conceal_carry_gun_holster_1280.jpeg  
  inflating: MMU/train/13-Mexican-Carry.jpeg  
  inflating: __MACOSX/MMU/train/._13-Mexican-Carry.jpeg  
  inflating: MMU/train/afnan.xml     
  inflating: MMU/train/concealed-carry.jpeg  
  inflating: __MACOSX/MMU/train/._concealed-carry.jpeg  
  inflating: MMU/train/hqdefault.xml  
  inflating: MMU/train/3e140d4613b8f9ae048066dc0d799b98.jpeg  
  inflating: __MACOSX/MMU/train/._3e140d4613b8f9ae048066dc0d799b98.jpeg  
  inflating: MMU/train/ffb0d28fab5eaac626861502654785f1.jpeg  
  inflating: __MACOSX/MMU/train/._ffb0d28fab5eaac626861502654785f1.jpeg  
  inflating: MMU/train/7da0f5af5f9e2d1026baac613d7166ca.xml  
  inflating: MMU/train/IMG_5308.jpeg  
  inflating: __MACOSX/MMU/train/._IMG_5308.jpeg  
  inflating: MMU/train/makarov-pistol-pocket-person-white-background-39141074.xml  
  inflating: MMU/train/istockphoto-123419010-612x612.jpeg  
  inflating: __MACOSX/MMU/train/._istockphoto-123419010-612x612.jpeg  
  inflating: MMU/train/1.jpeg        
  inflating: __MACOSX/MMU/train/._1.jpeg  
  inflating: MMU/train/c00268388075671d07ef82e69cb15e6c.xml  
  inflating: MMU/train/istockphoto-1098404188-612x612.xml  
  inflating: MMU/train/7-Fanny-Pack-Draw.jpeg  
  inflating: __MACOSX/MMU/train/._7-Fanny-Pack-Draw.jpeg  
  inflating: MMU/train/2db57fc09d4b7f07c4a701c2ca309fe4.xml  
  inflating: MMU/train/61hm+N-DUeL._AC_UL210_SR210,210_.jpeg  
  inflating: __MACOSX/MMU/train/._61hm+N-DUeL._AC_UL210_SR210,210_.jpeg  
  inflating: MMU/train/f7b2a7af9aaa75fbd9b605f61285d091.jpeg  
  inflating: __MACOSX/MMU/train/._f7b2a7af9aaa75fbd9b605f61285d091.jpeg  
  inflating: MMU/train/c2fe0983e7b4a6582496e9800e583072.jpeg  
  inflating: __MACOSX/MMU/train/._c2fe0983e7b4a6582496e9800e583072.jpeg  
  inflating: MMU/train/ocf12012130-largejpg-dfccacff1cd4a0f0.xml  
  inflating: MMU/train/91967b30b9d4a45138897236eaec30f1.xml  
  inflating: MMU/train/2ead57cdfba62b6596d5dfcd55021815.jpeg  
  inflating: __MACOSX/MMU/train/._2ead57cdfba62b6596d5dfcd55021815.jpeg  
  inflating: MMU/train/dde1d7a7690664eeb27b6f846ec8087f (1).xml  
  inflating: MMU/train/0b08bd0f91d3d53394bf2903df7f0123.xml  
  inflating: __MACOSX/MMU/train/._0b08bd0f91d3d53394bf2903df7f0123.xml  
  inflating: MMU/train/af4b7a8a7d7bc4017d5ba45190f2a2a7.xml  
  inflating: MMU/train/conceal+carry.xml  
  inflating: MMU/train/man-pulling-his-automatic-gun-out-jean-pocket-concealed-pistol-concept-197907831 (1).xml  
  inflating: MMU/train/closeup-security-agent-business-suit-260nw-1358346476.jpeg  
  inflating: __MACOSX/MMU/train/._closeup-security-agent-business-suit-260nw-1358346476.jpeg  
  inflating: MMU/train/575050366ea6baeb83eec0266752b28b.xml  
  inflating: MMU/train/conceal-carry-26729885 (1).xml  
  inflating: MMU/train/download (1).jpeg  
  inflating: __MACOSX/MMU/train/._download (1).jpeg  
  inflating: MMU/train/3715ec98bb61058a8786ccffab144c7e.jpeg  
  inflating: __MACOSX/MMU/train/._3715ec98bb61058a8786ccffab144c7e.jpeg  
  inflating: MMU/train/IMG_5298.jpeg  
  inflating: __MACOSX/MMU/train/._IMG_5298.jpeg  
  inflating: MMU/train/a32b004a18e34035cd465f9179dd2f4c.xml  
  inflating: MMU/train/3-IWB-Clips.xml  
  inflating: MMU/train/2db57fc09d4b7f07c4a701c2ca309fe4.jpeg  
  inflating: __MACOSX/MMU/train/._2db57fc09d4b7f07c4a701c2ca309fe4.jpeg  
  inflating: MMU/train/NAA-BW-in-Pocket-Holster.jpeg  
  inflating: __MACOSX/MMU/train/._NAA-BW-in-Pocket-Holster.jpeg  
  inflating: MMU/train/33f8efe91dd624cd1eab3541ff37070d.xml  
  inflating: MMU/train/pistol-pocket-jeans-pistol-pocket-jeans-228488942.jpeg  
  inflating: __MACOSX/MMU/train/._pistol-pocket-jeans-pistol-pocket-jeans-228488942.jpeg  
  inflating: MMU/train/d8c6c8aef662906ded5b61625f4cb135.jpeg  
  inflating: __MACOSX/MMU/train/._d8c6c8aef662906ded5b61625f4cb135.jpeg  
  inflating: MMU/train/5d7a246d-11bb-4edd-a06f-ba4a0896ad1e_1140x641.jpeg  
  inflating: __MACOSX/MMU/train/._5d7a246d-11bb-4edd-a06f-ba4a0896ad1e_1140x641.jpeg  
  inflating: MMU/train/istockphoto-1307422868-612x612 (1).jpeg  
  inflating: __MACOSX/MMU/train/._istockphoto-1307422868-612x612 (1).jpeg  
  inflating: MMU/train/concealed.xml  
  inflating: MMU/train/hero-primary-edc.jpeg  
  inflating: __MACOSX/MMU/train/._hero-primary-edc.jpeg  
  inflating: MMU/train/af4b7a8a7d7bc4017d5ba45190f2a2a7.jpeg  
  inflating: __MACOSX/MMU/train/._af4b7a8a7d7bc4017d5ba45190f2a2a7.jpeg  
  inflating: MMU/train/robber-hiding-gun-back-pocket-jeans-to-threaten-victim-abandoned-meadow-sunset-light-criminal-murder-safety-104778497.jpeg  
  inflating: __MACOSX/MMU/train/._robber-hiding-gun-back-pocket-jeans-to-threaten-victim-abandoned-meadow-sunset-light-criminal-murder-safety-104778497.jpeg  
  inflating: MMU/train/711zw4Op9uL._AC_UF350,350_QL80_.xml  
  inflating: MMU/train/13 (1).xml    
  inflating: MMU/train/4eaed5100fe37aa066f3fe94d95ce7fd.jpeg  
  inflating: __MACOSX/MMU/train/._4eaed5100fe37aa066f3fe94d95ce7fd.jpeg  
  inflating: MMU/train/220315-ohio-conceal-carry-mn-1515-ee38cf.xml  
  inflating: MMU/train/c8b785a6cc894e5e2add975779d33af1.jpeg  
  inflating: __MACOSX/MMU/train/._c8b785a6cc894e5e2add975779d33af1.jpeg  
  inflating: MMU/train/ea36708b6f098af6602852fc88bd65b5.jpeg  
  inflating: __MACOSX/MMU/train/._ea36708b6f098af6602852fc88bd65b5.jpeg  
  inflating: MMU/train/hand-pulls-out-revolver-pocket-human-blue-jeans-instagram-image-filter-retro-style-66462409.xml  
  inflating: MMU/train/d52ed9d51d8d0ba05347bc59f9a733b0.jpeg  
  inflating: __MACOSX/MMU/train/._d52ed9d51d8d0ba05347bc59f9a733b0.jpeg  
  inflating: MMU/train/a4e524fca03bacddd0dfd23ca8731635.jpeg  
  inflating: __MACOSX/MMU/train/._a4e524fca03bacddd0dfd23ca8731635.jpeg  
  inflating: MMU/train/ccw-full.xml  
  inflating: MMU/train/d8c6c8aef662906ded5b61625f4cb135 (1).xml  
  inflating: MMU/train/gun-pocket-jeans-trousers-fighting-loaded-pistol-pocket-jeans-gun-woman-jeans-pocket-dangerous-many-196230531.xml  
  inflating: MMU/train/222dcd7ea50da131bf74a0aa97b4e501.xml  
  inflating: MMU/train/pistol-pocket-jeans-pistol-pocket-jeans-228488908.jpeg  
  inflating: __MACOSX/MMU/train/._pistol-pocket-jeans-pistol-pocket-jeans-228488908.jpeg  
  inflating: MMU/train/istockphoto-487057262-612x612.xml  
  inflating: MMU/train/woman-iwb-holster.jpeg  
  inflating: __MACOSX/MMU/train/._woman-iwb-holster.jpeg  
  inflating: MMU/train/a32b004a18e34035cd465f9179dd2f4c.jpeg  
  inflating: __MACOSX/MMU/train/._a32b004a18e34035cd465f9179dd2f4c.jpeg  
  inflating: MMU/train/images (1).jpeg  
  inflating: __MACOSX/MMU/train/._images (1).jpeg  
  inflating: MMU/train/281e1a051498e665dd20c1f1a4a5f244.jpeg  
  inflating: __MACOSX/MMU/train/._281e1a051498e665dd20c1f1a4a5f244.jpeg  
  inflating: MMU/train/5b851797271c70d4773c3233abf8ecbc (1).xml  
  inflating: MMU/train/089a75515c2059812837491e746f890c.xml  
  inflating: MMU/train/20.jpeg       
  inflating: __MACOSX/MMU/train/._20.jpeg  
  inflating: MMU/train/31df3188a4c0fb37a8f47641395e41db.xml  
  inflating: MMU/train/concealed-carry-two-carry-methods.xml  
  inflating: MMU/train/d341d6292128bac2f1cc43664bd19940.jpeg  
  inflating: __MACOSX/MMU/train/._d341d6292128bac2f1cc43664bd19940.jpeg  
  inflating: MMU/train/4254eb7b8d72b451b7b1cbd71a97acdf.jpeg  
  inflating: __MACOSX/MMU/train/._4254eb7b8d72b451b7b1cbd71a97acdf.jpeg  
  inflating: MMU/train/90c92be0a6a19cc21fe2d9dc0e478ee3.jpeg  
  inflating: __MACOSX/MMU/train/._90c92be0a6a19cc21fe2d9dc0e478ee3.jpeg  
  inflating: MMU/train/21576132-large.xml  
  inflating: MMU/train/little-boy-plastic-gun-jeans-pocket-happy-boy-toy-pistol-gun-playing-outdoors-summer-day-little-boy-119827385.xml  
  inflating: MMU/train/istockphoto-175488597-612x612.jpeg  
  inflating: __MACOSX/MMU/train/._istockphoto-175488597-612x612.jpeg  
  inflating: MMU/train/5e5668ec9bf643b4cef9cf223c626e31.xml  
  inflating: MMU/train/91pZeiZOEWL._AC_UL210_SR210,210_.xml  
  inflating: MMU/train/e25513d67f5a47077d0b89838e33f68d.jpeg  
  inflating: __MACOSX/MMU/train/._e25513d67f5a47077d0b89838e33f68d.jpeg  
  inflating: MMU/train/15.xml        
  inflating: MMU/train/IMG_5303.jpeg  
  inflating: __MACOSX/MMU/train/._IMG_5303.jpeg  
  inflating: MMU/train/69cf6030d5621c6bdb56f1b464309520.jpeg  
  inflating: __MACOSX/MMU/train/._69cf6030d5621c6bdb56f1b464309520.jpeg  
  inflating: MMU/train/b91dd8d629c8d189344f3393ac3d0acc (1).jpeg  
  inflating: __MACOSX/MMU/train/._b91dd8d629c8d189344f3393ac3d0acc (1).jpeg  
  inflating: MMU/train/man-pulling-gun-out-pocket-25125766.xml  
  inflating: MMU/train/pull-gun-out-pants-man-pulling-back-his-38369758.jpeg  
  inflating: __MACOSX/MMU/train/._pull-gun-out-pants-man-pulling-back-his-38369758.jpeg  
  inflating: MMU/train/closeup-image-businessman-big-stack-money-putting-handgun-his-jacket-pocket-closeup-photo-businessman-big-127054509.xml  
  inflating: MMU/train/Concealing-Full-Size-Handguns-Alien-Gear-1911-Holster.xml  
  inflating: MMU/train/51+E2Nc-l2L.jpeg  
  inflating: __MACOSX/MMU/train/._51+E2Nc-l2L.jpeg  
  inflating: MMU/train/670a95da764d2d04979b17791336fef6.xml  
  inflating: MMU/train/e503ee228951e0263ddc4a934c4f9abf.jpeg  
  inflating: __MACOSX/MMU/train/._e503ee228951e0263ddc4a934c4f9abf.jpeg  
  inflating: MMU/train/gun-1024x683.xml  
  inflating: MMU/train/images (3).jpeg  
  inflating: __MACOSX/MMU/train/._images (3).jpeg  
  inflating: MMU/train/istockphoto-185065704-612x612.jpeg  
  inflating: __MACOSX/MMU/train/._istockphoto-185065704-612x612.jpeg  
  inflating: MMU/train/istockphoto-1098403978-612x612 (1).jpeg  
  inflating: __MACOSX/MMU/train/._istockphoto-1098403978-612x612 (1).jpeg  
  inflating: MMU/train/12-Bra-Holster.xml  
  inflating: MMU/train/Conceal_Carry.jpeg  
  inflating: __MACOSX/MMU/train/._Conceal_Carry.jpeg  
  inflating: MMU/train/businessman-pulling-gun-out-pocket-94418811 2.jpeg  
  inflating: __MACOSX/MMU/train/._businessman-pulling-gun-out-pocket-94418811 2.jpeg  
  inflating: MMU/train/0c14c419bc3e69ebea20006b626e0819.jpeg  
  inflating: __MACOSX/MMU/train/._0c14c419bc3e69ebea20006b626e0819.jpeg  
  inflating: MMU/train/5674c5f6418fb1bbc7743630b4b9bbf6.xml  
  inflating: MMU/train/mdccw_squat.xml  
  inflating: MMU/train/fe038c10b4cf0d8bf0585e52046462a5.jpeg  
  inflating: __MACOSX/MMU/train/._fe038c10b4cf0d8bf0585e52046462a5.jpeg  
  inflating: MMU/train/how-to-write-guns-pocket-shot1.xml  
  inflating: MMU/train/08f27fe5bded47696028ca82d0d60ce5.jpeg  
  inflating: __MACOSX/MMU/train/._08f27fe5bded47696028ca82d0d60ce5.jpeg  
  inflating: MMU/train/istockphoto-123419010-612x612.xml  
  inflating: MMU/train/2c3854e43c4950ce288a60967a2b57fb.xml  
  inflating: MMU/train/man-everyday-carry-items-edc-man-variety-everyday-carry-edc-items-gun-notes-pocket-knife-flashlight-209915129.xml  
  inflating: MMU/train/e660df3b2bc7ad4c332d9d574176cb3c.xml  
  inflating: MMU/train/4254eb7b8d72b451b7b1cbd71a97acdf (1).jpeg  
  inflating: __MACOSX/MMU/train/._4254eb7b8d72b451b7b1cbd71a97acdf (1).jpeg  
  inflating: MMU/train/9f4c4832047f797a8cf7953727f66ca9.jpeg  
  inflating: __MACOSX/MMU/train/._9f4c4832047f797a8cf7953727f66ca9.jpeg  
  inflating: MMU/train/pistol-pocket-jeans-pistol-pocket-jeans-228488942.xml  
  inflating: MMU/train/2.-Womens-Concealed-Carry-AIWB-1200x800.jpeg  
  inflating: __MACOSX/MMU/train/._2.-Womens-Concealed-Carry-AIWB-1200x800.jpeg  
  inflating: MMU/train/f43eb51b9e0911035364014bebb9c5a6.xml  
  inflating: MMU/train/istockphoto-990958458-612x612.xml  
  inflating: MMU/train/063853a73e86c3a7592e537a0431c9e0.xml  
  inflating: MMU/train/man-pulling-his-automatic-gun-out-jean-pocket-man-pulling-his-automatic-gun-out-jean-pocket-concealed-pistol-concept-197907891.xml  
  inflating: MMU/train/dc844b00697d81289f4a95315631e341.jpeg  
  inflating: __MACOSX/MMU/train/._dc844b00697d81289f4a95315631e341.jpeg  
  inflating: MMU/train/7.jpeg        
  inflating: __MACOSX/MMU/train/._7.jpeg  
  inflating: MMU/train/e14e787eb5fd0e6a1df1a3052539411d.xml  
  inflating: MMU/train/e9527ba9d2283903eb018608b0647f91.xml  
  inflating: MMU/train/51ca0feddae4b1890a075033b2afd2b6.xml  
  inflating: MMU/train/revealing-firearm-26729923.xml  
  inflating: MMU/train/0c14c419bc3e69ebea20006b626e0819.xml  
  inflating: MMU/train/8d6200c01cb0628eb4cb69c3552276b0.xml  
  inflating: MMU/train/istockphoto-1355729092-612x612.jpeg  
  inflating: __MACOSX/MMU/train/._istockphoto-1355729092-612x612.jpeg  
  inflating: MMU/train/semi-automatic-handgun-camouflage-pant-pocket-white-back-91558686.xml  
  inflating: MMU/train/4d24aac2f11f6436ef6d3ad64b6911d9.xml  
  inflating: MMU/train/d633f3a3bf843edbaeb4b3f71a893f84.jpeg  
  inflating: __MACOSX/MMU/train/._d633f3a3bf843edbaeb4b3f71a893f84.jpeg  
  inflating: MMU/train/istockphoto-1098404188-612x612.jpeg  
  inflating: __MACOSX/MMU/train/._istockphoto-1098404188-612x612.jpeg  
  inflating: MMU/train/b9bcb90b2fbd476a4f6958d3b136a02b.jpeg  
  inflating: __MACOSX/MMU/train/._b9bcb90b2fbd476a4f6958d3b136a02b.jpeg  
  inflating: MMU/train/dde1d7a7690664eeb27b6f846ec8087f (2).jpeg  
  inflating: __MACOSX/MMU/train/._dde1d7a7690664eeb27b6f846ec8087f (2).jpeg  
  inflating: MMU/train/220315085314-concealed-gun-stock.xml  
  inflating: MMU/train/3509e1e3c19df8961a6deaae4d8d1bfc.xml  
  inflating: MMU/train/51ca0feddae4b1890a075033b2afd2b6.jpeg  
  inflating: __MACOSX/MMU/train/._51ca0feddae4b1890a075033b2afd2b6.jpeg  
  inflating: MMU/train/74403bf4daa6f88e568a58c694c11cbf.jpeg  
  inflating: __MACOSX/MMU/train/._74403bf4daa6f88e568a58c694c11cbf.jpeg  
  inflating: MMU/train/man-pulling-his-automatic-gun-out-jean-pocket-man-pulling-his-automatic-gun-out-jean-pocket-concealed-pistol-concept-197907891.jpeg  
  inflating: __MACOSX/MMU/train/._man-pulling-his-automatic-gun-out-jean-pocket-man-pulling-his-automatic-gun-out-jean-pocket-concealed-pistol-concept-197907891.jpeg  
  inflating: MMU/train/5dc739a9ab97a2f562bdba2223757802.jpeg  
  inflating: __MACOSX/MMU/train/._5dc739a9ab97a2f562bdba2223757802.jpeg  
  inflating: MMU/train/gun-pocket-jeans-trousers-fighting-loaded-pistol-pocket-jeans-gun-woman-jeans-pocket-dangerous-many-196230442.xml  
  inflating: MMU/train/2-IWB-Belt-Loops.xml  
  inflating: MMU/train/concealedcarry6.xml  
  inflating: MMU/train/gun-woman-jeans-pocket-dangerous-260nw-129078473.xml  
  inflating: MMU/train/f128c19bab6f9a00d0e138860fd9debe.xml  
  inflating: MMU/train/ad6de849ced67c3d5bf76e21f1c2b801.jpeg  
  inflating: __MACOSX/MMU/train/._ad6de849ced67c3d5bf76e21f1c2b801.jpeg  
  inflating: MMU/train/13.xml        
  inflating: MMU/train/3d909ea01446b8c38779af25c593cd04.jpeg  
  inflating: __MACOSX/MMU/train/._3d909ea01446b8c38779af25c593cd04.jpeg  
  inflating: MMU/train/b7751d81172c14a226174ccddf7f2cb7.xml  
  inflating: MMU/train/f128c19bab6f9a00d0e138860fd9debe.jpeg  
  inflating: __MACOSX/MMU/train/._f128c19bab6f9a00d0e138860fd9debe.jpeg  
  inflating: MMU/train/semi-automatic-handgun-camouflage-pant-pocket-white-back-91558199.jpeg  
  inflating: __MACOSX/MMU/train/._semi-automatic-handgun-camouflage-pant-pocket-white-back-91558199.jpeg  
  inflating: MMU/train/5dc739a9ab97a2f562bdba2223757802 (1).xml  
  inflating: MMU/train/e7fed919-24db-41a1-bc2f-ad5d18a63c7c-jumbo36x25_gun1.jpeg  
  inflating: __MACOSX/MMU/train/._e7fed919-24db-41a1-bc2f-ad5d18a63c7c-jumbo36x25_gun1.jpeg  
  inflating: MMU/train/IMG_5302.jpeg  
  inflating: __MACOSX/MMU/train/._IMG_5302.jpeg  
  inflating: MMU/train/hero-primary-edc.xml  
  inflating: MMU/train/IMG_5308.xml  
  inflating: MMU/train/gun-pocket-jeans-trousers-fighting-loaded-pistol-pocket-jeans-gun-woman-jeans-pocket-dangerous-many-196230565.jpeg  
  inflating: __MACOSX/MMU/train/._gun-pocket-jeans-trousers-fighting-loaded-pistol-pocket-jeans-gun-woman-jeans-pocket-dangerous-many-196230565.jpeg  
  inflating: MMU/train/download (2).jpeg  
  inflating: __MACOSX/MMU/train/._download (2).jpeg  
  inflating: MMU/train/4254eb7b8d72b451b7b1cbd71a97acdf (1).xml  
  inflating: MMU/train/c85eed898e2f42d01fd2b543b77694b4.xml  
  inflating: MMU/train/3715ec98bb61058a8786ccffab144c7e.xml  
  inflating: MMU/train/istockphoto-671431546-612x612.jpeg  
  inflating: __MACOSX/MMU/train/._istockphoto-671431546-612x612.jpeg  
  inflating: MMU/train/conceal+carry.jpeg  
  inflating: __MACOSX/MMU/train/._conceal+carry.jpeg  
  inflating: MMU/train/e1c25528f0a20fd2adcb9a545b25e5f8.jpeg  
  inflating: __MACOSX/MMU/train/._e1c25528f0a20fd2adcb9a545b25e5f8.jpeg  
  inflating: MMU/train/IMG_5297.xml  
  inflating: MMU/train/624f48c69f2a55463ec630942163ae3d.jpeg  
  inflating: __MACOSX/MMU/train/._624f48c69f2a55463ec630942163ae3d.jpeg  
  inflating: MMU/train/NAA-BW-in-Pocket-Holster.xml  
  inflating: MMU/train/b57fbfa7ec0319c3583b46a2509e8b2e.jpeg  
  inflating: __MACOSX/MMU/train/._b57fbfa7ec0319c3583b46a2509e8b2e.jpeg  
  inflating: MMU/train/3-IWB-Clips.jpeg  
  inflating: __MACOSX/MMU/train/._3-IWB-Clips.jpeg  
  inflating: MMU/train/4254eb7b8d72b451b7b1cbd71a97acdf.xml  
  inflating: MMU/train/c85eed898e2f42d01fd2b543b77694b4.jpeg  
  inflating: __MACOSX/MMU/train/._c85eed898e2f42d01fd2b543b77694b4.jpeg  
  inflating: MMU/train/590cc6fda2e166d71729dc9e578a067f.xml  
  inflating: MMU/train/10-APPENDIX-Carry.xml  
  inflating: MMU/train/istockphoto-866398382-170667a.xml  
  inflating: MMU/train/gun-pocket-jeans-93532290.jpeg  
  inflating: __MACOSX/MMU/train/._gun-pocket-jeans-93532290.jpeg  
  inflating: MMU/train/silver-revolver-back-pocket-old-blue-jeans-leather-belt-95109666.jpeg  
  inflating: __MACOSX/MMU/train/._silver-revolver-back-pocket-old-blue-jeans-leather-belt-95109666.jpeg  
  inflating: MMU/train/81ef492d0565373df96e693dba1ce2c7.jpeg  
  inflating: __MACOSX/MMU/train/._81ef492d0565373df96e693dba1ce2c7.jpeg  
  inflating: MMU/train/c00268388075671d07ef82e69cb15e6c.jpeg  
  inflating: __MACOSX/MMU/train/._c00268388075671d07ef82e69cb15e6c.jpeg  
  inflating: MMU/train/e503ee228951e0263ddc4a934c4f9abf.xml  
  inflating: MMU/train/man-pulling-gun-out-pocket-25125766.jpeg  
  inflating: __MACOSX/MMU/train/._man-pulling-gun-out-pocket-25125766.jpeg  
  inflating: MMU/train/2.-Womens-Concealed-Carry-AIWB-1200x800.xml  
  inflating: MMU/train/IWB-Concealed-Carry2.xml  
  inflating: MMU/train/Conceal_Carry.xml  
  inflating: MMU/train/istockphoto-185065704-612x612.xml  
  inflating: MMU/train/35f6ecc6cd32d51c143f51293b8d23c3.jpeg  
  inflating: __MACOSX/MMU/train/._35f6ecc6cd32d51c143f51293b8d23c3.jpeg  
  inflating: MMU/train/575050366ea6baeb83eec0266752b28b (1).xml  
  inflating: MMU/train/gun-back-pocket-greenish-trousers-157727655.jpeg  
  inflating: __MACOSX/MMU/train/._gun-back-pocket-greenish-trousers-157727655.jpeg  
  inflating: MMU/train/2134702728e266f641bcab8279dfa7e6.jpeg  
  inflating: __MACOSX/MMU/train/._2134702728e266f641bcab8279dfa7e6.jpeg  
  inflating: MMU/train/gun-back-pocket-gun-back-pocket-greenish-trousers-153530959.xml  
  inflating: MMU/train/IMG_5309.xml  
  inflating: MMU/train/man-green-cloth-hides-firearm-behind-his-back-criminal-concept-hidden-weapon-gun-jeans-pocket-rear-view-214024693.jpeg  
  inflating: __MACOSX/MMU/train/._man-green-cloth-hides-firearm-behind-his-back-criminal-concept-hidden-weapon-gun-jeans-pocket-rear-view-214024693.jpeg  
  inflating: MMU/train/concealed.jpeg  
  inflating: __MACOSX/MMU/train/._concealed.jpeg  
  inflating: MMU/train/a114a8eb58dad24f4a879bc692ea61db.xml  
  inflating: MMU/train/SoBCover.xml  
  inflating: MMU/train/6e89a86e86e124ea43318c8b1b3566b0.xml  
  inflating: MMU/train/gun-back-pocket-gun-back-pocket-greenish-trousers-153530959.jpeg  
  inflating: __MACOSX/MMU/train/._gun-back-pocket-gun-back-pocket-greenish-trousers-153530959.jpeg  
  inflating: MMU/train/ConcealCarry_1200x.jpeg  
  inflating: __MACOSX/MMU/train/._ConcealCarry_1200x.jpeg  
  inflating: MMU/train/752804d20fd47fad4ed6dcee15e1176f.jpeg  
  inflating: __MACOSX/MMU/train/._752804d20fd47fad4ed6dcee15e1176f.jpeg  
  inflating: MMU/train/gun-pocket-jeans-trousers-fighting-loaded-pistol-pocket-jeans-gun-woman-jeans-pocket-dangerous-many-196230531.jpeg  
  inflating: __MACOSX/MMU/train/._gun-pocket-jeans-trousers-fighting-loaded-pistol-pocket-jeans-gun-woman-jeans-pocket-dangerous-many-196230531.jpeg  
  inflating: MMU/train/istockphoto-185059996-612x612.xml  
  inflating: MMU/train/b7751d81172c14a226174ccddf7f2cb7.jpeg  
  inflating: __MACOSX/MMU/train/._b7751d81172c14a226174ccddf7f2cb7.jpeg  
  inflating: MMU/train/8642ef8610a16a1a1daf2c9a9c8de697.jpeg  
  inflating: __MACOSX/MMU/train/._8642ef8610a16a1a1daf2c9a9c8de697.jpeg  
  inflating: MMU/train/pistol-pocket-jeans-pistol-pocket-jeans-228488961.xml  
  inflating: MMU/train/IMG_5301.jpeg  
  inflating: __MACOSX/MMU/train/._IMG_5301.jpeg  
  inflating: MMU/train/2649bd7531fc81d7888a17ac6c6e626b.xml  
  inflating: MMU/train/concealed-carry (1).jpeg  
  inflating: __MACOSX/MMU/train/._concealed-carry (1).jpeg  
  inflating: MMU/train/IMG_5310.xml  
  inflating: MMU/train/IMG_5304.xml  
  inflating: MMU/train/businessman-pulling-gun-out-pocket-94418811.jpeg  
  inflating: __MACOSX/MMU/train/._businessman-pulling-gun-out-pocket-94418811.jpeg  
  inflating: MMU/train/5b851797271c70d4773c3233abf8ecbc.jpeg  
  inflating: __MACOSX/MMU/train/._5b851797271c70d4773c3233abf8ecbc.jpeg  
  inflating: MMU/train/5f61ed286e5e879d88a5acf1e77dfc8f.xml  
  inflating: MMU/train/gun-back-pocket-greenish-trousers-260nw-1454156216.xml  
  inflating: MMU/train/afnan.jpeg    
  inflating: __MACOSX/MMU/train/._afnan.jpeg  
  inflating: MMU/train/0555b3c0b46b1f5a44942b46322e827a.xml  
  inflating: MMU/train/575050366ea6baeb83eec0266752b28b (2).jpeg  
  inflating: __MACOSX/MMU/train/._575050366ea6baeb83eec0266752b28b (2).jpeg  
  inflating: MMU/train/bb51ec2bc44367710afe04e2bcea9f65.jpeg  
  inflating: __MACOSX/MMU/train/._bb51ec2bc44367710afe04e2bcea9f65.jpeg  
  inflating: MMU/train/IMG_guncc_1_1_1_IQ6A1GS.jpeg  
  inflating: __MACOSX/MMU/train/._IMG_guncc_1_1_1_IQ6A1GS.jpeg  
  inflating: MMU/train/gun-back-pocket-gun-back-pocket-greenish-trousers-152564768.jpeg  
  inflating: __MACOSX/MMU/train/._gun-back-pocket-gun-back-pocket-greenish-trousers-152564768.jpeg  
  inflating: MMU/train/5b851797271c70d4773c3233abf8ecbc.xml  
  inflating: MMU/train/063853a73e86c3a7592e537a0431c9e0.jpeg  
  inflating: __MACOSX/MMU/train/._063853a73e86c3a7592e537a0431c9e0.jpeg  
  inflating: MMU/train/220315-ohio-conceal-carry-mn-1515-ee38cf.jpeg  
  inflating: __MACOSX/MMU/train/._220315-ohio-conceal-carry-mn-1515-ee38cf.jpeg  
  inflating: MMU/train/13-Mexican-Carry.xml  
  inflating: MMU/train/31cc806c9712665e648ae4fb4dba5895.xml  
  inflating: MMU/train/f43eb51b9e0911035364014bebb9c5a6.jpeg  
  inflating: __MACOSX/MMU/train/._f43eb51b9e0911035364014bebb9c5a6.jpeg  
  inflating: MMU/train/lace_blouse_show_1_large.jpeg  
  inflating: __MACOSX/MMU/train/._lace_blouse_show_1_large.jpeg  
  inflating: MMU/train/4eaed5100fe37aa066f3fe94d95ce7fd.xml  
  inflating: MMU/train/istockphoto-895042140-612x612.xml  
  inflating: MMU/train/ccw-full.jpeg  
  inflating: __MACOSX/MMU/train/._ccw-full.jpeg  
  inflating: MMU/train/575050366ea6baeb83eec0266752b28b (2).xml  
  inflating: MMU/train/624f48c69f2a55463ec630942163ae3d.xml  
  inflating: MMU/train/concealing-firearm-26729882.xml  
  inflating: MMU/train/81ef492d0565373df96e693dba1ce2c7.xml  
  inflating: MMU/train/IMG_5305.xml  
  inflating: MMU/train/IMG_5311.xml  
  inflating: MMU/train/55c5cba22f813df97e075f9b03b83e4a.jpeg  
  inflating: __MACOSX/MMU/train/._55c5cba22f813df97e075f9b03b83e4a.jpeg  
  inflating: MMU/train/20.xml        
  inflating: MMU/train/d633f3a3bf843edbaeb4b3f71a893f84.xml  
  inflating: MMU/train/5cad1ca80d3449a0c8a4cf0e60929275.xml  
  inflating: MMU/train/istockphoto-1307422868-612x612.jpeg  
  inflating: __MACOSX/MMU/train/._istockphoto-1307422868-612x612.jpeg  
  inflating: MMU/train/61hm+N-DUeL._AC_UL210_SR210,210_.xml  
  inflating: MMU/train/5674c5f6418fb1bbc7743630b4b9bbf6.jpeg  
  inflating: __MACOSX/MMU/train/._5674c5f6418fb1bbc7743630b4b9bbf6.jpeg  
  inflating: MMU/train/appendix-draw.jpeg  
  inflating: __MACOSX/MMU/train/._appendix-draw.jpeg  
  inflating: MMU/train/IMG_5307.xml  
  inflating: MMU/train/c8b785a6cc894e5e2add975779d33af1.xml  
  inflating: MMU/train/274709886_2135065033313670_8735176271542652138_n.xml  
  inflating: MMU/train/revealing-concealed-firearm-26729916.xml  
  inflating: MMU/train/d6d16e3b29397ffa6f7cfba1bfef573a.jpeg  
  inflating: __MACOSX/MMU/train/._d6d16e3b29397ffa6f7cfba1bfef573a.jpeg  
  inflating: MMU/train/5dc739a9ab97a2f562bdba2223757802.xml  
  inflating: MMU/train/istockphoto-175488597-612x612.xml  
  inflating: MMU/train/how-to-write-guns-pocket-shot1 (2).jpeg  
  inflating: __MACOSX/MMU/train/._how-to-write-guns-pocket-shot1 (2).jpeg  
  inflating: MMU/train/752804d20fd47fad4ed6dcee15e1176f.xml  
  inflating: MMU/train/41MTLbp-w7L._AC_UF1000,1000_QL80_.xml  
  inflating: MMU/train/IMG_5298.xml  
  inflating: MMU/train/d8c6c8aef662906ded5b61625f4cb135 (2).jpeg  
  inflating: __MACOSX/MMU/train/._d8c6c8aef662906ded5b61625f4cb135 (2).jpeg  
  inflating: MMU/train/Elegant+&+Armed+-+Concealed+Carry+-+Lethal+Lace_0014.xml  
  inflating: MMU/train/b91dd8d629c8d189344f3393ac3d0acc (1).xml  
  inflating: MMU/train/istockphoto-866398382-170667a.jpeg  
  inflating: __MACOSX/MMU/train/._istockphoto-866398382-170667a.jpeg  
  inflating: MMU/train/f1ad25913711983343484b46a520b54f.xml  
  inflating: MMU/train/concealedcarrymain.jpeg  
  inflating: __MACOSX/MMU/train/._concealedcarrymain.jpeg  
  inflating: MMU/train/365feb4d613d79a73d4e9a08048277f9.jpeg  
  inflating: __MACOSX/MMU/train/._365feb4d613d79a73d4e9a08048277f9.jpeg  
  inflating: MMU/train/mdccw_squat.jpeg  
  inflating: __MACOSX/MMU/train/._mdccw_squat.jpeg  
  inflating: MMU/train/handgun-gun-holster-man-pocket-handgun-gun-holster-man-pocket-173901562.jpeg  
  inflating: __MACOSX/MMU/train/._handgun-gun-holster-man-pocket-handgun-gun-holster-man-pocket-173901562.jpeg  
  inflating: MMU/train/robber-hiding-gun-back-pocket-jeans-to-threaten-victim-abandoned-meadow-sunset-light-criminal-murder-safety-104778497.xml  
  inflating: MMU/train/ebdffb135460524c994684f16ca23a8a.xml  
  inflating: MMU/train/IMG_5299.xml  
  inflating: MMU/train/05293175d091e0881782c5b1ecb8ef2b.xml  
  inflating: MMU/train/11-Thigh-Holster.jpeg  
  inflating: __MACOSX/MMU/train/._11-Thigh-Holster.jpeg  
  inflating: MMU/train/gun-pocket-jeans-trousers-fighting-loaded-pistol-pocket-jeans-gun-woman-jeans-pocket-dangerous-many-196230442.jpeg  
  inflating: __MACOSX/MMU/train/._gun-pocket-jeans-trousers-fighting-loaded-pistol-pocket-jeans-gun-woman-jeans-pocket-dangerous-many-196230442.jpeg  
  inflating: MMU/train/c8256f3d145ff9758350151732ddfb3c.xml  
  inflating: MMU/train/21576132-large.jpeg  
  inflating: __MACOSX/MMU/train/._21576132-large.jpeg  
  inflating: MMU/train/H88352a25e7e0461f947c402365c68321q.jpeg  
  inflating: __MACOSX/MMU/train/._H88352a25e7e0461f947c402365c68321q.jpeg  
  inflating: MMU/train/6e611ccabffec3787c722eec86b1e9e9.xml  
  inflating: MMU/train/9cc8e2d3173cf29c4699240ba8c6b914.jpeg  
  inflating: __MACOSX/MMU/train/._9cc8e2d3173cf29c4699240ba8c6b914.jpeg  
  inflating: MMU/train/IMG_5306.xml  
  inflating: MMU/train/fe038c10b4cf0d8bf0585e52046462a5.xml  
  inflating: MMU/train/23.xml        
  inflating: MMU/train/campus-carry.xml  
  inflating: MMU/train/5d7a246d-11bb-4edd-a06f-ba4a0896ad1e_1140x641.xml  
  inflating: MMU/train/9-BB-Holster.jpeg  
  inflating: __MACOSX/MMU/train/._9-BB-Holster.jpeg  
  inflating: MMU/train/81Ihu3GobsL._AC_UF1000,1000_QL80_.xml  
  inflating: MMU/train/ea36708b6f098af6602852fc88bd65b5.xml  
  inflating: MMU/train/9f4c4832047f797a8cf7953727f66ca9.xml  
  inflating: MMU/train/IMG_5302.xml  
  inflating: MMU/train/images (4).xml  
  inflating: MMU/train/01f797d5c8addcbff88ca702e9ef6263.xml  
  inflating: MMU/train/H88352a25e7e0461f947c402365c68321q.xml  
  inflating: MMU/train/15.jpeg       
  inflating: __MACOSX/MMU/train/._15.jpeg  
  inflating: MMU/train/e14e787eb5fd0e6a1df1a3052539411d.jpeg  
  inflating: __MACOSX/MMU/train/._e14e787eb5fd0e6a1df1a3052539411d.jpeg  
  inflating: MMU/train/gun-holstered-at-hip.jpeg  
  inflating: __MACOSX/MMU/train/._gun-holstered-at-hip.jpeg  
  inflating: MMU/train/9080AE47-89DF-428B-B236-698D99DB4014_large.jpeg  
  inflating: __MACOSX/MMU/train/._9080AE47-89DF-428B-B236-698D99DB4014_large.jpeg  
  inflating: MMU/train/H7338fa4483374cda99891d5469898052F.jpeg  
  inflating: __MACOSX/MMU/train/._H7338fa4483374cda99891d5469898052F.jpeg  
  inflating: MMU/train/Woman-Concealed-Handgun.jpeg  
  inflating: __MACOSX/MMU/train/._Woman-Concealed-Handgun.jpeg  
  inflating: MMU/train/DRESS_10xt_belly_band_1mg (1).jpeg  
  inflating: __MACOSX/MMU/train/._DRESS_10xt_belly_band_1mg (1).jpeg  
  inflating: MMU/train/ad6de849ced67c3d5bf76e21f1c2b801.xml  
  inflating: MMU/train/campus-carry.jpeg  
  inflating: __MACOSX/MMU/train/._campus-carry.jpeg  
  inflating: MMU/train/concealed-carry (1).xml  
  inflating: MMU/train/istockphoto-990958458-612x612.jpeg  
  inflating: __MACOSX/MMU/train/._istockphoto-990958458-612x612.jpeg  
  inflating: MMU/train/220315085314-concealed-gun-stock.jpeg  
  inflating: __MACOSX/MMU/train/._220315085314-concealed-gun-stock.jpeg  
  inflating: MMU/train/closeup-image-businessman-big-stack-money-putting-handgun-his-jacket-pocket-closeup-photo-businessman-big-127054509.jpeg  
  inflating: __MACOSX/MMU/train/._closeup-image-businessman-big-stack-money-putting-handgun-his-jacket-pocket-closeup-photo-businessman-big-127054509.jpeg  
  inflating: MMU/train/05293175d091e0881782c5b1ecb8ef2b.jpeg  
  inflating: __MACOSX/MMU/train/._05293175d091e0881782c5b1ecb8ef2b.jpeg  
  inflating: MMU/train/closeup-gun-being-drawn-12814502.jpeg  
  inflating: __MACOSX/MMU/train/._closeup-gun-being-drawn-12814502.jpeg  
  inflating: MMU/train/gun-pocket-jeans-trousers-fighting-loaded-pistol-pocket-jeans-gun-woman-jeans-pocket-dangerous-many-196230438.jpeg  
  inflating: __MACOSX/MMU/train/._gun-pocket-jeans-trousers-fighting-loaded-pistol-pocket-jeans-gun-woman-jeans-pocket-dangerous-many-196230438.jpeg  
  inflating: MMU/train/revealing-firearm-26729923.jpeg  
  inflating: __MACOSX/MMU/train/._revealing-firearm-26729923.jpeg  
  inflating: MMU/train/90c92be0a6a19cc21fe2d9dc0e478ee3.xml  
  inflating: MMU/train/35f6ecc6cd32d51c143f51293b8d23c3.xml  
  inflating: MMU/train/8d6200c01cb0628eb4cb69c3552276b0.jpeg  
  inflating: __MACOSX/MMU/train/._8d6200c01cb0628eb4cb69c3552276b0.jpeg  
  inflating: MMU/train/small-revolver-self-defence-pocket-shirt-lot-places-need-something-to-do-138893334.jpeg  
  inflating: __MACOSX/MMU/train/._small-revolver-self-defence-pocket-shirt-lot-places-need-something-to-do-138893334.jpeg  
  inflating: MMU/train/6b1358bc87662ea0fa15d22d12992dff.jpeg  
  inflating: __MACOSX/MMU/train/._6b1358bc87662ea0fa15d22d12992dff.jpeg  
  inflating: MMU/train/IMG_5303.xml  
  inflating: MMU/train/tucked-belt-pistol-being-concealed-260nw-90457432.xml  
  inflating: MMU/train/gun-back-pocket-greenish-trousers-260nw-1464736163.xml  
  inflating: MMU/train/concealed-carry-777x437.xml  
  inflating: MMU/train/gun-pistol-blue-jeans-pocket-gun-pistol-new-blue-jeans-pocket-219984988.jpeg  
  inflating: __MACOSX/MMU/train/._gun-pistol-blue-jeans-pocket-gun-pistol-new-blue-jeans-pocket-219984988.jpeg  
  inflating: MMU/train/ConcealCarry_1200x.xml  
  inflating: MMU/train/2134702728e266f641bcab8279dfa7e6.xml  
  inflating: MMU/train/33fce06006986c549d4db5edd7d03555.jpeg  
  inflating: __MACOSX/MMU/train/._33fce06006986c549d4db5edd7d03555.jpeg  
  inflating: MMU/train/small-revolver-self-defence-pocket-shirt-lot-places-need-something-to-do-138893334.xml  
  inflating: MMU/train/2135bf4b4d6bfe904d553a69fa2622d6.xml  
  inflating: MMU/train/5cad1ca80d3449a0c8a4cf0e60929275.jpeg  
  inflating: __MACOSX/MMU/train/._5cad1ca80d3449a0c8a4cf0e60929275.jpeg  
  inflating: MMU/train/IMG_5301.xml  
  inflating: MMU/train/d8c6c8aef662906ded5b61625f4cb135 (2).xml  
  inflating: MMU/train/gun-back-pocket-gun-back-pocket-greenish-trousers-152564768.xml  
  inflating: MMU/train/concealed-carry.xml  
  inflating: MMU/train/semi-automatic-handgun-camouflage-pant-pocket-white-back-91558464.xml  
  inflating: MMU/train/appendix-draw.xml  
  inflating: MMU/train/Concealed20Weapon20Handgun20MGN201_1548952336368.png_69783303_ver1.0.xml  
  inflating: MMU/train/EXLWYRqWoAENYhB.jpeg  
  inflating: __MACOSX/MMU/train/._EXLWYRqWoAENYhB.jpeg  
  inflating: MMU/train/EXLWYRqWoAENYhB.xml  
  inflating: MMU/train/MDP25UMY3ZENFBRVGGWT3DKZA4.xml  
  inflating: MMU/train/4b0ffe02-7204-46d3-91de-10ab9bd8744d-large1x1_Gunconcealedcarry.jpeg  
  inflating: __MACOSX/MMU/train/._4b0ffe02-7204-46d3-91de-10ab9bd8744d-large1x1_Gunconcealedcarry.jpeg  
  inflating: MMU/train/6-Ankle-Holster.jpeg  
  inflating: __MACOSX/MMU/train/._6-Ankle-Holster.jpeg  
  inflating: MMU/train/23.jpeg       
  inflating: __MACOSX/MMU/train/._23.jpeg  
  inflating: MMU/train/DRESS_10xt_belly_band_1mg.xml  
  inflating: MMU/train/istockphoto-185059996-612x612.jpeg  
  inflating: __MACOSX/MMU/train/._istockphoto-185059996-612x612.jpeg  
  inflating: MMU/train/635748780949579748-gun-DFP-feedback-0319.JP-1-1-FLA8QR0V-L581798094.xml  
  inflating: MMU/train/istockphoto-1334890762-612x612.xml  
  inflating: MMU/train/Elegant+&+Armed+-+Concealed+Carry+-+Lethal+Lace_0014.jpeg  
  inflating: __MACOSX/MMU/train/._Elegant+&+Armed+-+Concealed+Carry+-+Lethal+Lace_0014.jpeg  
  inflating: MMU/train/742061a5159f63d1d63f5d487aa7e843.xml  
  inflating: MMU/train/ece5cd47a7bf911ede37cf0c2658113b.jpeg  
  inflating: __MACOSX/MMU/train/._ece5cd47a7bf911ede37cf0c2658113b.jpeg  
  inflating: MMU/train/679c8d76bca0869989673149136717a8.xml  
  inflating: MMU/train/IMG_5300.xml  
  inflating: MMU/train/11-Thigh-Holster.xml  
  inflating: MMU/train/810e9c6e7bd258ba8953f945a49dd0dc.xml  
  inflating: MMU/train/IMG_5300.jpeg  
  inflating: __MACOSX/MMU/train/._IMG_5300.jpeg  
  inflating: MMU/train/gun-back-pocket-greenish-trousers-260nw-1454156216.jpeg  
  inflating: __MACOSX/MMU/train/._gun-back-pocket-greenish-trousers-260nw-1454156216.jpeg  
  inflating: MMU/train/33c45034a88a8310d6d9ada5269a8bec.jpeg  
  inflating: __MACOSX/MMU/train/._33c45034a88a8310d6d9ada5269a8bec.jpeg  
  inflating: MMU/train/41MTLbp-w7L._AC_UF1000,1000_QL80_.jpeg  
  inflating: __MACOSX/MMU/train/._41MTLbp-w7L._AC_UF1000,1000_QL80_.jpeg  
  inflating: MMU/train/man-gun-21556810.jpeg  
  inflating: __MACOSX/MMU/train/._man-gun-21556810.jpeg  
  inflating: MMU/train/gun-back-pocket-greenish-trousers-157727655.xml  
  inflating: MMU/train/742061a5159f63d1d63f5d487aa7e843.jpeg  
  inflating: __MACOSX/MMU/train/._742061a5159f63d1d63f5d487aa7e843.jpeg  
  inflating: MMU/train/9080AE47-89DF-428B-B236-698D99DB4014_large.xml  
  inflating: MMU/train/810e9c6e7bd258ba8953f945a49dd0dc.jpeg  
  inflating: __MACOSX/MMU/train/._810e9c6e7bd258ba8953f945a49dd0dc.jpeg  
  inflating: MMU/train/a7237920a3a1f5d5b9423a1cd02276cf.jpeg  
  inflating: __MACOSX/MMU/train/._a7237920a3a1f5d5b9423a1cd02276cf.jpeg  
  inflating: MMU/train/gun-pocket-6671617.xml  
  inflating: MMU/train/istockphoto-1098403978-612x612.jpeg  
  inflating: __MACOSX/MMU/train/._istockphoto-1098403978-612x612.jpeg  
  inflating: MMU/train/089a75515c2059812837491e746f890c.jpeg  
  inflating: __MACOSX/MMU/train/._089a75515c2059812837491e746f890c.jpeg  
  inflating: MMU/train/man-hides-weapon-jeans-field-grass-setting-sun-hidden-gun-pocket-rear-view-214024697.jpeg  
  inflating: __MACOSX/MMU/train/._man-hides-weapon-jeans-field-grass-setting-sun-hidden-gun-pocket-rear-view-214024697.jpeg  
  inflating: MMU/train/concealing-firearm-26729882.jpeg  
  inflating: __MACOSX/MMU/train/._concealing-firearm-26729882.jpeg  
  inflating: MMU/train/semi-automatic-handgun-camouflage-pant-pocket-white-back-91558199.xml  
  inflating: MMU/train/hqdefault.jpeg  
  inflating: __MACOSX/MMU/train/._hqdefault.jpeg  
  inflating: MMU/train/58e5fe953be49a2b6474dbb7ac2f39c4.jpeg  
  inflating: __MACOSX/MMU/train/._58e5fe953be49a2b6474dbb7ac2f39c4.jpeg  
  inflating: MMU/train/679c8d76bca0869989673149136717a8.jpeg  
  inflating: __MACOSX/MMU/train/._679c8d76bca0869989673149136717a8.jpeg  
  inflating: MMU/train/dde1d7a7690664eeb27b6f846ec8087f (2).xml  
  inflating: MMU/train/b9bcb90b2fbd476a4f6958d3b136a02b.xml  
  inflating: MMU/train/5-Shoulder-Holster.xml  
  inflating: MMU/train/cab6d352731213dfb80d773a661d3ab7.xml  
  inflating: MMU/train/e660df3b2bc7ad4c332d9d574176cb3c.jpeg  
  inflating: __MACOSX/MMU/train/._e660df3b2bc7ad4c332d9d574176cb3c.jpeg  
  inflating: MMU/train/revealing-concealed-firearm-26729916.jpeg  
  inflating: __MACOSX/MMU/train/._revealing-concealed-firearm-26729916.jpeg  
  inflating: MMU/train/6e89a86e86e124ea43318c8b1b3566b0.jpeg  
  inflating: __MACOSX/MMU/train/._6e89a86e86e124ea43318c8b1b3566b0.jpeg  
  inflating: MMU/train/2ead57cdfba62b6596d5dfcd55021815.xml  
  inflating: MMU/train/concealed-carry-777x437.jpeg  
  inflating: __MACOSX/MMU/train/._concealed-carry-777x437.jpeg  
  inflating: MMU/train/08f27fe5bded47696028ca82d0d60ce5.xml  
  inflating: MMU/train/31cc806c9712665e648ae4fb4dba5895.jpeg  
  inflating: __MACOSX/MMU/train/._31cc806c9712665e648ae4fb4dba5895.jpeg  
  inflating: MMU/train/S3f167ff431da46878a3b4d8e74c222d7K.jpeg  
  inflating: __MACOSX/MMU/train/._S3f167ff431da46878a3b4d8e74c222d7K.jpeg  
  inflating: MMU/train/istockphoto-174776200-612x612.jpeg  
  inflating: __MACOSX/MMU/train/._istockphoto-174776200-612x612.jpeg  
  inflating: MMU/train/images (3).xml  
  inflating: MMU/train/575050366ea6baeb83eec0266752b28b (1).jpeg  
  inflating: __MACOSX/MMU/train/._575050366ea6baeb83eec0266752b28b (1).jpeg  
  inflating: MMU/train/45.jpeg       
  inflating: __MACOSX/MMU/train/._45.jpeg  
  inflating: MMU/train/makarov-pistol-his-pants-white-background-39141212.xml  
  inflating: MMU/train/IMG_5307.jpeg  
  inflating: __MACOSX/MMU/train/._IMG_5307.jpeg  
  inflating: MMU/train/7.xml         
  inflating: MMU/train/pistol-pocket-jeans-pistol-pocket-jeans-228488961.jpeg  
  inflating: __MACOSX/MMU/train/._pistol-pocket-jeans-pistol-pocket-jeans-228488961.jpeg  
  inflating: MMU/train/31df3188a4c0fb37a8f47641395e41db.jpeg  
  inflating: __MACOSX/MMU/train/._31df3188a4c0fb37a8f47641395e41db.jpeg  
  inflating: MMU/train/gun-pocket-jeans-trousers-fighting-loaded-pistol-pocket-jeans-gun-woman-jeans-pocket-dangerous-many-196230438.xml  
  inflating: MMU/train/gun-holstered-at-hip (1).xml  
  inflating: MMU/train/closeup-gun-being-drawn-12814502.xml  
  inflating: MMU/train/74403bf4daa6f88e568a58c694c11cbf.xml  
  inflating: MMU/train/f6be4e84e4e0bb7603f93d65a8a6373c.xml  
  inflating: MMU/train/a7237920a3a1f5d5b9423a1cd02276cf.xml  
  inflating: MMU/train/590cc6fda2e166d71729dc9e578a067f.jpeg  
  inflating: __MACOSX/MMU/train/._590cc6fda2e166d71729dc9e578a067f.jpeg  
  inflating: MMU/train/IWB-Concealed-Carry2.jpeg  
  inflating: __MACOSX/MMU/train/._IWB-Concealed-Carry2.jpeg  
  inflating: MMU/train/5f61ed286e5e879d88a5acf1e77dfc8f.jpeg  
  inflating: __MACOSX/MMU/train/._5f61ed286e5e879d88a5acf1e77dfc8f.jpeg  
  inflating: MMU/train/c2fe0983e7b4a6582496e9800e583072.xml  
  inflating: MMU/train/dde1d7a7690664eeb27b6f846ec8087f.xml  
  inflating: MMU/train/IMG_5311.jpeg  
  inflating: __MACOSX/MMU/train/._IMG_5311.jpeg  
  inflating: MMU/train/4-OWB-Galco-Combat-Master-Belt.jpeg  
  inflating: __MACOSX/MMU/train/._4-OWB-Galco-Combat-Master-Belt.jpeg  
  inflating: MMU/train/istockphoto-1355729092-612x612.xml  
  inflating: MMU/train/4b0ffe02-7204-46d3-91de-10ab9bd8744d-large1x1_Gunconcealedcarry.xml  
  inflating: MMU/train/274709886_2135065033313670_8735176271542652138_n.jpeg  
  inflating: __MACOSX/MMU/train/._274709886_2135065033313670_8735176271542652138_n.jpeg  
  inflating: MMU/train/d52ed9d51d8d0ba05347bc59f9a733b0.xml  
  inflating: MMU/train/9ff043be72edf0c8ea1d17c71b81d616.jpeg  
  inflating: __MACOSX/MMU/train/._9ff043be72edf0c8ea1d17c71b81d616.jpeg  
  inflating: MMU/train/33c45034a88a8310d6d9ada5269a8bec.xml  
  inflating: MMU/train/8642ef8610a16a1a1daf2c9a9c8de697.xml  
  inflating: MMU/train/6e611ccabffec3787c722eec86b1e9e9.jpeg  
  inflating: __MACOSX/MMU/train/._6e611ccabffec3787c722eec86b1e9e9.jpeg  
  inflating: MMU/train/b91dd8d629c8d189344f3393ac3d0acc.jpeg  
  inflating: __MACOSX/MMU/train/._b91dd8d629c8d189344f3393ac3d0acc.jpeg  
  inflating: MMU/train/092e6826a41a55a4afea87dba88aa6d1.xml  
  inflating: MMU/train/concealed-carry-two-carry-methods.jpeg  
  inflating: __MACOSX/MMU/train/._concealed-carry-two-carry-methods.jpeg  
  inflating: MMU/train/gun-pocket-jeans-trousers-fighting-loaded-pistol-pocket-jeans-gun-woman-jeans-pocket-dangerous-many-196230565.xml  
  inflating: MMU/train/0276437f3d8aeb8c19348fda3464cedc.xml  
  inflating: MMU/train/IMG_5297.jpeg  
  inflating: __MACOSX/MMU/train/._IMG_5297.jpeg  
  inflating: MMU/train/SoBCover.jpeg  
  inflating: __MACOSX/MMU/train/._SoBCover.jpeg  
  inflating: MMU/train/size1.jpeg    
  inflating: __MACOSX/MMU/train/._size1.jpeg  
  inflating: MMU/train/d8c6c8aef662906ded5b61625f4cb135 (1).jpeg  
  inflating: __MACOSX/MMU/train/._d8c6c8aef662906ded5b61625f4cb135 (1).jpeg  
  inflating: MMU/train/9740b961d6d5809f69d19339cf75ffc1.xml  
  inflating: MMU/train/how-to-write-guns-pocket-shot1 (1).jpeg  
  inflating: __MACOSX/MMU/train/._how-to-write-guns-pocket-shot1 (1).jpeg  
  inflating: MMU/train/10-APPENDIX-Carry.jpeg  
  inflating: __MACOSX/MMU/train/._10-APPENDIX-Carry.jpeg  
  inflating: MMU/train/revolver-pocket-old-blue-jeans-67661677.xml  
  inflating: MMU/train/IMG_guncc_1_1_1_IQ6A1GS.xml  
  inflating: MMU/train/istockphoto-1307422868-612x612 (1).xml  
  inflating: MMU/train/woman-drawing-sig-from-concealed.xml  
  inflating: MMU/train/230110160233-jersey-city-gun-file-032521.jpeg  
  inflating: __MACOSX/MMU/train/._230110160233-jersey-city-gun-file-032521.jpeg  
  inflating: MMU/train/dc844b00697d81289f4a95315631e341.xml  
  inflating: MMU/train/how-to-write-guns-pocket-shot1.jpeg  
  inflating: __MACOSX/MMU/train/._how-to-write-guns-pocket-shot1.jpeg  
  inflating: MMU/train/lace_blouse_show_1_large.xml  
  inflating: MMU/train/concealedcarry6.jpeg  
  inflating: __MACOSX/MMU/train/._concealedcarry6.jpeg  
  inflating: MMU/train/5e5668ec9bf643b4cef9cf223c626e31.jpeg  
  inflating: __MACOSX/MMU/train/._5e5668ec9bf643b4cef9cf223c626e31.jpeg  
  inflating: MMU/train/222dcd7ea50da131bf74a0aa97b4e501.jpeg  
  inflating: __MACOSX/MMU/train/._222dcd7ea50da131bf74a0aa97b4e501.jpeg  
  inflating: MMU/train/hand-pulls-out-revolver-pocket-human-blue-jeans-instagram-image-filter-retro-style-66462409.jpeg  
  inflating: __MACOSX/MMU/train/._hand-pulls-out-revolver-pocket-human-blue-jeans-instagram-image-filter-retro-style-66462409.jpeg  
  inflating: MMU/train/ebdffb135460524c994684f16ca23a8a.jpeg  
  inflating: __MACOSX/MMU/train/._ebdffb135460524c994684f16ca23a8a.jpeg  
  inflating: MMU/train/63c2520df0b04d13daed7666d76cb610.xml  
  inflating: MMU/train/d341d6292128bac2f1cc43664bd19940.xml  
  inflating: MMU/train/281e1a051498e665dd20c1f1a4a5f244.xml  
  inflating: MMU/train/man-pulling-his-automatic-gun-out-jean-pocket-concealed-pistol-concept-197907831.jpeg  
  inflating: __MACOSX/MMU/train/._man-pulling-his-automatic-gun-out-jean-pocket-concealed-pistol-concept-197907831.jpeg  
  inflating: MMU/train/AHCC19-carry-5.xml  
  inflating: MMU/train/istockphoto-671431546-612x612.xml  
  inflating: MMU/train/IMG_5310.jpeg  
  inflating: __MACOSX/MMU/train/._IMG_5310.jpeg  
  inflating: MMU/train/33f8efe91dd624cd1eab3541ff37070d.jpeg  
  inflating: __MACOSX/MMU/train/._33f8efe91dd624cd1eab3541ff37070d.jpeg  
  inflating: MMU/train/man-green-cloth-hides-firearm-behind-his-back-criminal-concept-hidden-weapon-gun-jeans-pocket-rear-view-214024693.xml  
  inflating: MMU/train/istockphoto-1334890762-612x612.jpeg  
  inflating: __MACOSX/MMU/train/._istockphoto-1334890762-612x612.jpeg  
  inflating: MMU/train/651e420794c67cc16b459e84cd6959d8.jpeg  
  inflating: __MACOSX/MMU/train/._651e420794c67cc16b459e84cd6959d8.jpeg  
  inflating: MMU/train/9-BB-Holster.xml  
  inflating: MMU/train/gun-pocket-jeans-trousers-fighting-loaded-pistol-pocket-jeans-gun-woman-jeans-pocket-dangerous-many-196230574.xml  
  inflating: MMU/train/670a95da764d2d04979b17791336fef6.jpeg  
  inflating: __MACOSX/MMU/train/._670a95da764d2d04979b17791336fef6.jpeg  
  inflating: MMU/train/2c3854e43c4950ce288a60967a2b57fb.jpeg  
  inflating: __MACOSX/MMU/train/._2c3854e43c4950ce288a60967a2b57fb.jpeg  
  inflating: MMU/train/handgun-gun-holster-man-pocket-handgun-gun-holster-man-pocket-173901562.xml  
  inflating: MMU/train/best-pocket-pistol-5.xml  
  inflating: MMU/train/man-pulling-out-gun-his-pocket-78063330.xml  
  inflating: MMU/train/a12f4456b4c1cdd09ba20a0822311fbb.xml  
  inflating: MMU/train/IMG_5306.jpeg  
  inflating: __MACOSX/MMU/train/._IMG_5306.jpeg  
  inflating: MMU/train/S3f167ff431da46878a3b4d8e74c222d7K.xml  
  inflating: MMU/train/45.xml        
  inflating: MMU/train/Concealing-Full-Size-Handguns-Alien-Gear-1911-Holster.jpeg  
  inflating: __MACOSX/MMU/train/._Concealing-Full-Size-Handguns-Alien-Gear-1911-Holster.jpeg  
  inflating: MMU/train/29a594df5f2f1c90a2deddfbc076283c.jpeg  
  inflating: __MACOSX/MMU/train/._29a594df5f2f1c90a2deddfbc076283c.jpeg  
  inflating: MMU/train/MDP25UMY3ZENFBRVGGWT3DKZA4.jpeg  
  inflating: __MACOSX/MMU/train/._MDP25UMY3ZENFBRVGGWT3DKZA4.jpeg  
  inflating: MMU/train/ffb0d28fab5eaac626861502654785f1.xml  
  inflating: MMU/train/semi-automatic-handgun-camouflage-pant-pocket-white-back-91557907.jpeg  
  inflating: __MACOSX/MMU/train/._semi-automatic-handgun-camouflage-pant-pocket-white-back-91557907.jpeg  
  inflating: MMU/train/f6be4e84e4e0bb7603f93d65a8a6373c.jpeg  
  inflating: __MACOSX/MMU/train/._f6be4e84e4e0bb7603f93d65a8a6373c.jpeg  
  inflating: MMU/train/092e6826a41a55a4afea87dba88aa6d1.jpeg  
  inflating: __MACOSX/MMU/train/._092e6826a41a55a4afea87dba88aa6d1.jpeg  
  inflating: MMU/train/YYHIWWFL4VKVZMSHB2WJKEIQGU (1).xml  
  inflating: MMU/train/1.xml         
  inflating: MMU/train/DRESS_10xt_belly_band_1mg (1).xml  
  inflating: MMU/train/conceal_carry_gun_holster_1280.xml  
  inflating: MMU/train/download (2).xml  
  inflating: MMU/train/images (2).xml  
  inflating: MMU/train/man-gun-21556810.xml  
  inflating: MMU/train/13.jpeg       
  inflating: __MACOSX/MMU/train/._13.jpeg  
  inflating: MMU/train/man-pulling-out-gun-his-pocket-78063330.jpeg  
  inflating: __MACOSX/MMU/train/._man-pulling-out-gun-his-pocket-78063330.jpeg  
  inflating: MMU/train/images.xml    
  inflating: MMU/train/size1.xml     
  inflating: MMU/train/istockphoto-1098403978-612x612 (1).xml  
  inflating: MMU/train/conceal-carry-26729885.xml  
  inflating: MMU/train/semi-automatic-handgun-camouflage-pant-pocket-white-back-91557907.xml  
  inflating: MMU/train/33fce06006986c549d4db5edd7d03555.xml  
  inflating: MMU/train/gun-back-pocket-greenish-trousers-260nw-1464736163.jpeg  
  inflating: __MACOSX/MMU/train/._gun-back-pocket-greenish-trousers-260nw-1464736163.jpeg  
  inflating: MMU/train/0276437f3d8aeb8c19348fda3464cedc.jpeg  
  inflating: __MACOSX/MMU/train/._0276437f3d8aeb8c19348fda3464cedc.jpeg  
  inflating: MMU/train/365feb4d613d79a73d4e9a08048277f9.xml  
  inflating: MMU/train/man-pulling-his-automatic-gun-out-jean-pocket-concealed-pistol-concept-197907831 (1).jpeg  
  inflating: __MACOSX/MMU/train/._man-pulling-his-automatic-gun-out-jean-pocket-concealed-pistol-concept-197907831 (1).jpeg  
  inflating: MMU/train/5b851797271c70d4773c3233abf8ecbc (1).jpeg  
  inflating: __MACOSX/MMU/train/._5b851797271c70d4773c3233abf8ecbc (1).jpeg  
  inflating: MMU/train/69cf6030d5621c6bdb56f1b464309520.xml  
  inflating: MMU/train/29a594df5f2f1c90a2deddfbc076283c.xml  
  inflating: MMU/train/d6298c29ace79a52106800d59472415b.jpeg  
  inflating: __MACOSX/MMU/train/._d6298c29ace79a52106800d59472415b.jpeg  
  inflating: MMU/train/f7b2a7af9aaa75fbd9b605f61285d091.xml  
  inflating: MMU/train/tucked-belt-pistol-being-concealed-260nw-90457432.jpeg  
  inflating: __MACOSX/MMU/train/._tucked-belt-pistol-being-concealed-260nw-90457432.jpeg  
  inflating: MMU/train/711zw4Op9uL._AC_UF350,350_QL80_.jpeg  
  inflating: __MACOSX/MMU/train/._711zw4Op9uL._AC_UF350,350_QL80_.jpeg  
  inflating: MMU/train/d6298c29ace79a52106800d59472415b.xml  
  inflating: MMU/train/dde1d7a7690664eeb27b6f846ec8087f.jpeg  
  inflating: __MACOSX/MMU/train/._dde1d7a7690664eeb27b6f846ec8087f.jpeg  
  inflating: MMU/train/e25513d67f5a47077d0b89838e33f68d.xml  
  inflating: MMU/train/01f797d5c8addcbff88ca702e9ef6263.jpeg  
  inflating: __MACOSX/MMU/train/._01f797d5c8addcbff88ca702e9ef6263.jpeg  
  inflating: MMU/train/gun-holstered-at-hip.xml  
  inflating: MMU/train/how-to-write-guns-pocket-shot1 (2).xml  
  inflating: MMU/train/H7338fa4483374cda99891d5469898052F (1).jpeg  
  inflating: __MACOSX/MMU/train/._H7338fa4483374cda99891d5469898052F (1).jpeg  
  inflating: MMU/train/DRESS_10xt_belly_band_1mg.jpeg  
  inflating: __MACOSX/MMU/train/._DRESS_10xt_belly_band_1mg.jpeg  
  inflating: MMU/train/ece5cd47a7bf911ede37cf0c2658113b.xml  
  inflating: MMU/train/58e5fe953be49a2b6474dbb7ac2f39c4.xml  
  inflating: MMU/train/man-pulling-his-automatic-gun-out-jean-pocket-concealed-pistol-concept-197907831.xml  
  inflating: MMU/train/gun-holstered-at-hip (1).jpeg  
  inflating: __MACOSX/MMU/train/._gun-holstered-at-hip (1).jpeg  
  inflating: MMU/train/silver-revolver-back-pocket-old-blue-jeans-leather-belt-95109666.xml  
  inflating: MMU/train/istockphoto-895042140-612x612.jpeg  
  inflating: __MACOSX/MMU/train/._istockphoto-895042140-612x612.jpeg  
Train the object detection model
Step 1: Load the dataset
Images in train_data is used to train the custom object detection model.
Images in val_data is used to check if the model can generalize well to new images that it hasn't seen before.
[ ]
  1
  2
  3
  4
  5
  6
  7
  8
  9
 10
 11
train_data = object_detector.DataLoader.from_pascal_voc(
    'MMU/train',
    'MMU/train',
    ['Gun']
)

val_data = object_detector.DataLoader.from_pascal_voc(
    'MMU/validate',
    'MMU/validate',
    ['Gun']
)
Step 2: Select a model architecture
EfficientDet-Lite[0-4] are a family of mobile/IoT-friendly object detection models derived from the EfficientDet architecture.

Here is the performance of each EfficientDet-Lite models compared to each others.

Model architecture	Size(MB)*	Latency(ms)**	Average Precision***
EfficientDet-Lite0	4.4	146	25.69%
EfficientDet-Lite1	5.8	259	30.55%
EfficientDet-Lite2	7.2	396	33.97%
EfficientDet-Lite3	11.4	716	37.70%
EfficientDet-Lite4	19.9	1886	41.96%
* Size of the integer quantized models.
** Latency measured on Raspberry Pi 4 using 4 threads on CPU.
*** Average Precision is the mAP (mean Average Precision) on the COCO 2017 validation dataset.

In this notebook, we use EfficientDet-Lite0 to train our model. You can choose other model architectures depending on whether speed or accuracy is more important to you.

[ ]
  1
spec = model_spec.get('efficientdet_lite2')
Step 3: Train the TensorFlow model with the training data.
Set epochs = 20, which means it will go through the training dataset 20 times. You can look at the validation accuracy during training and stop when you see validation loss (val_loss) stop decreasing to avoid overfitting.
Set batch_size = 4 here so you will see that it takes 15 steps to go through the 300 images in the training dataset.
Set train_whole_model=True to fine-tune the whole model instead of just training the head layer to improve accuracy. The trade-off is that it may take longer to train the model.
[ ]
  1
model = object_detector.create(train_data, model_spec=spec, batch_size=4, train_whole_model=True, epochs=20, validation_data=val_data)
Epoch 1/20
75/75 [==============================] - 104s 684ms/step - det_loss: 1.3922 - cls_loss: 0.8671 - box_loss: 0.0105 - reg_l2_loss: 0.0759 - loss: 1.4681 - learning_rate: 0.0065 - gradient_norm: 5.3795 - val_det_loss: 1.0218 - val_cls_loss: 0.5870 - val_box_loss: 0.0087 - val_reg_l2_loss: 0.0760 - val_loss: 1.0978
Epoch 2/20
75/75 [==============================] - 46s 619ms/step - det_loss: 0.8957 - cls_loss: 0.5042 - box_loss: 0.0078 - reg_l2_loss: 0.0761 - loss: 0.9718 - learning_rate: 0.0049 - gradient_norm: 7.9081 - val_det_loss: 0.7531 - val_cls_loss: 0.4797 - val_box_loss: 0.0055 - val_reg_l2_loss: 0.0762 - val_loss: 0.8294
Epoch 3/20
75/75 [==============================] - 49s 653ms/step - det_loss: 0.7912 - cls_loss: 0.4445 - box_loss: 0.0069 - reg_l2_loss: 0.0764 - loss: 0.8676 - learning_rate: 0.0048 - gradient_norm: 8.1123 - val_det_loss: 0.8820 - val_cls_loss: 0.5579 - val_box_loss: 0.0065 - val_reg_l2_loss: 0.0765 - val_loss: 0.9585
Epoch 4/20
75/75 [==============================] - 47s 625ms/step - det_loss: 0.6991 - cls_loss: 0.3965 - box_loss: 0.0061 - reg_l2_loss: 0.0766 - loss: 0.7756 - learning_rate: 0.0046 - gradient_norm: 7.9334 - val_det_loss: 0.6772 - val_cls_loss: 0.4305 - val_box_loss: 0.0049 - val_reg_l2_loss: 0.0767 - val_loss: 0.7539
Epoch 5/20
75/75 [==============================] - 75s 1s/step - det_loss: 0.6608 - cls_loss: 0.3760 - box_loss: 0.0057 - reg_l2_loss: 0.0767 - loss: 0.7375 - learning_rate: 0.0043 - gradient_norm: 7.8873 - val_det_loss: 0.5463 - val_cls_loss: 0.3109 - val_box_loss: 0.0047 - val_reg_l2_loss: 0.0768 - val_loss: 0.6231
Epoch 6/20
75/75 [==============================] - 48s 643ms/step - det_loss: 0.6039 - cls_loss: 0.3492 - box_loss: 0.0051 - reg_l2_loss: 0.0769 - loss: 0.6807 - learning_rate: 0.0040 - gradient_norm: 7.2037 - val_det_loss: 0.3519 - val_cls_loss: 0.2108 - val_box_loss: 0.0028 - val_reg_l2_loss: 0.0769 - val_loss: 0.4289
Epoch 7/20
75/75 [==============================] - 46s 619ms/step - det_loss: 0.5650 - cls_loss: 0.3270 - box_loss: 0.0048 - reg_l2_loss: 0.0770 - loss: 0.6420 - learning_rate: 0.0037 - gradient_norm: 6.7940 - val_det_loss: 0.4920 - val_cls_loss: 0.3030 - val_box_loss: 0.0038 - val_reg_l2_loss: 0.0770 - val_loss: 0.5691
Epoch 8/20
75/75 [==============================] - 50s 664ms/step - det_loss: 0.5721 - cls_loss: 0.3340 - box_loss: 0.0048 - reg_l2_loss: 0.0771 - loss: 0.6492 - learning_rate: 0.0033 - gradient_norm: 7.4654 - val_det_loss: 0.3672 - val_cls_loss: 0.2336 - val_box_loss: 0.0027 - val_reg_l2_loss: 0.0771 - val_loss: 0.4443
Epoch 9/20
75/75 [==============================] - 47s 625ms/step - det_loss: 0.5107 - cls_loss: 0.2980 - box_loss: 0.0043 - reg_l2_loss: 0.0772 - loss: 0.5879 - learning_rate: 0.0029 - gradient_norm: 6.8446 - val_det_loss: 0.3670 - val_cls_loss: 0.2277 - val_box_loss: 0.0028 - val_reg_l2_loss: 0.0772 - val_loss: 0.4442
Epoch 10/20
75/75 [==============================] - 71s 954ms/step - det_loss: 0.4717 - cls_loss: 0.2786 - box_loss: 0.0039 - reg_l2_loss: 0.0772 - loss: 0.5489 - learning_rate: 0.0025 - gradient_norm: 6.5141 - val_det_loss: 0.3313 - val_cls_loss: 0.2104 - val_box_loss: 0.0024 - val_reg_l2_loss: 0.0772 - val_loss: 0.4085
Epoch 11/20
75/75 [==============================] - 45s 610ms/step - det_loss: 0.4350 - cls_loss: 0.2542 - box_loss: 0.0036 - reg_l2_loss: 0.0772 - loss: 0.5122 - learning_rate: 0.0021 - gradient_norm: 6.2115 - val_det_loss: 0.2921 - val_cls_loss: 0.2064 - val_box_loss: 0.0017 - val_reg_l2_loss: 0.0772 - val_loss: 0.3694
Epoch 12/20
75/75 [==============================] - 50s 670ms/step - det_loss: 0.4415 - cls_loss: 0.2678 - box_loss: 0.0035 - reg_l2_loss: 0.0772 - loss: 0.5188 - learning_rate: 0.0017 - gradient_norm: 6.4854 - val_det_loss: 0.2326 - val_cls_loss: 0.1707 - val_box_loss: 0.0012 - val_reg_l2_loss: 0.0773 - val_loss: 0.3099
Epoch 13/20
75/75 [==============================] - 50s 674ms/step - det_loss: 0.4295 - cls_loss: 0.2546 - box_loss: 0.0035 - reg_l2_loss: 0.0773 - loss: 0.5068 - learning_rate: 0.0013 - gradient_norm: 5.9484 - val_det_loss: 0.2627 - val_cls_loss: 0.1791 - val_box_loss: 0.0017 - val_reg_l2_loss: 0.0773 - val_loss: 0.3399
Epoch 14/20
75/75 [==============================] - 48s 637ms/step - det_loss: 0.3947 - cls_loss: 0.2381 - box_loss: 0.0031 - reg_l2_loss: 0.0773 - loss: 0.4720 - learning_rate: 9.6632e-04 - gradient_norm: 5.8676 - val_det_loss: 0.2551 - val_cls_loss: 0.1906 - val_box_loss: 0.0013 - val_reg_l2_loss: 0.0773 - val_loss: 0.3323
Epoch 15/20
75/75 [==============================] - 71s 962ms/step - det_loss: 0.3877 - cls_loss: 0.2317 - box_loss: 0.0031 - reg_l2_loss: 0.0773 - loss: 0.4650 - learning_rate: 6.6289e-04 - gradient_norm: 5.4107 - val_det_loss: 0.2396 - val_cls_loss: 0.1733 - val_box_loss: 0.0013 - val_reg_l2_loss: 0.0773 - val_loss: 0.3169
Epoch 16/20
75/75 [==============================] - 46s 611ms/step - det_loss: 0.4112 - cls_loss: 0.2478 - box_loss: 0.0033 - reg_l2_loss: 0.0773 - loss: 0.4884 - learning_rate: 4.0957e-04 - gradient_norm: 6.2880 - val_det_loss: 0.2421 - val_cls_loss: 0.1727 - val_box_loss: 0.0014 - val_reg_l2_loss: 0.0773 - val_loss: 0.3194
Epoch 17/20
75/75 [==============================] - 49s 662ms/step - det_loss: 0.3780 - cls_loss: 0.2304 - box_loss: 0.0030 - reg_l2_loss: 0.0773 - loss: 0.4553 - learning_rate: 2.1327e-04 - gradient_norm: 5.8105 - val_det_loss: 0.2343 - val_cls_loss: 0.1724 - val_box_loss: 0.0012 - val_reg_l2_loss: 0.0773 - val_loss: 0.3116
Epoch 18/20
75/75 [==============================] - 46s 621ms/step - det_loss: 0.3767 - cls_loss: 0.2278 - box_loss: 0.0030 - reg_l2_loss: 0.0773 - loss: 0.4540 - learning_rate: 7.9345e-05 - gradient_norm: 5.9540 - val_det_loss: 0.2290 - val_cls_loss: 0.1717 - val_box_loss: 0.0011 - val_reg_l2_loss: 0.0773 - val_loss: 0.3063
Epoch 19/20
75/75 [==============================] - 50s 667ms/step - det_loss: 0.3728 - cls_loss: 0.2252 - box_loss: 0.0030 - reg_l2_loss: 0.0773 - loss: 0.4500 - learning_rate: 1.1452e-05 - gradient_norm: 6.0296 - val_det_loss: 0.2303 - val_cls_loss: 0.1715 - val_box_loss: 0.0012 - val_reg_l2_loss: 0.0773 - val_loss: 0.3076
Epoch 20/20
75/75 [==============================] - 70s 945ms/step - det_loss: 0.3633 - cls_loss: 0.2243 - box_loss: 0.0028 - reg_l2_loss: 0.0773 - loss: 0.4406 - learning_rate: 1.1440e-05 - gradient_norm: 5.9485 - val_det_loss: 0.2292 - val_cls_loss: 0.1711 - val_box_loss: 0.0012 - val_reg_l2_loss: 0.0773 - val_loss: 0.3065
Step 4. Evaluate the model with the validation data.
After training the object detection model using the images in the training dataset, use the 10 images in the validation dataset to evaluate how the model performs against new data it has never seen before.

As the default batch size is 64, it will take 1 step to go through the 300 images in the validation dataset.

The evaluation metrics are same as COCO.

[ ]
  1
model.evaluate(val_data)
5/5 [==============================] - 38s 3s/step

{'AP': 0.6818808,
 'AP50': 0.98501694,
 'AP75': 0.8374884,
 'APs': -1.0,
 'APm': 0.56141037,
 'APl': 0.7312289,
 'ARmax1': 0.6510386,
 'ARmax10': 0.7587537,
 'ARmax100': 0.76379824,
 'ARs': -1.0,
 'ARm': 0.6696078,
 'ARl': 0.8046808,
 'AP_/Gun': 0.6818808}
Step 5: Export as a TensorFlow Lite model.
Export the trained object detection model to the TensorFlow Lite format by specifying which folder you want to export the quantized model to. The default post-training quantization technique is full integer quantization. This allows the TensorFlow Lite model to be smaller, run faster on Raspberry Pi CPU and also compatible with the Google Coral EdgeTPU.
model.export(export_dir='.', tflite_filename='HalfGun.tflite')
